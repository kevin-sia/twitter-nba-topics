{
 "cells": [
  {
   "cell_type": "markdown",
   "metadata": {},
   "source": [
    "To run this notebook, you will need to use your own Twitter API authentication keys in the necessary cells."
   ]
  },
  {
   "cell_type": "markdown",
   "metadata": {},
   "source": [
    "# **Exploring Topic Clusters in the #NBA Twittersphere**"
   ]
  },
  {
   "cell_type": "markdown",
   "metadata": {},
   "source": [
    "# **Tweet Scraping**"
   ]
  },
  {
   "cell_type": "markdown",
   "metadata": {},
   "source": [
    "Twitter standard search API - `twitter.api.Api.GetSearch()` [(Documentation)](https://developer.twitter.com/en/docs/tweets/search/api-reference/get-search-tweets)\n",
    "\n",
    "- Probably best for analyzing trends, opinions, or popular subtopics of a certain search term\n",
    "- **\"Please note that Twitter's search service and, by extension, the Search API is not meant to be an exhaustive source of Tweets. Not all Tweets will be indexed or made available via the search interface.\"**\n",
    "    - We should thus try to collect as many tweets as reasonably possible!\n",
    "- The maximum number of tweets retrievable from a single API request is 100, but this must be specified through the `.GetSearch()` parameter `count` (the default is 15)\n",
    "- Rate-limited to 180 *requests* per 15 minutes\n",
    "- The above two limits imply a max retrieval rate of **20 tweets every second**!\n",
    "    - This is a *maximum* rate!  We might not want to request tweets at high rates to be on the conservative side of API usage\n",
    "    - Another downside to frequently retrieving tweets is that **we may not get 100 *different* tweets in a 5 second timeframe**!  Based on some of my own API request tests and checking for duplicate rows, it actually might be beneficial to just request 100 tweets every maybe 10-15 minutes to ensure that you get a unique set of tweets every request.  However, even if our data has duplicate rows, it's not a hassle to store them or delete them\n",
    "- Limited to tweets from **7 days prior to time of query**\n",
    "    - Try to do frequent queries to capture a certain time interval as best as possible\n",
    "    - Ultimately we are \"time-limited\" or \"time-sensitive\" - potential cluster topics are based on certain events in the NBA (good games, injuries, etc)\n",
    "- Think carefully about the search term - if you try to search something like \"jazz\" (e.g. the NBA team Utah Jazz), you will inevitably get some music-related content. Similarly, it's possible that \"NBA\" returns non-basketball related content - the acronym could stand for many things other than \"National Basketball Association\".  Might be safer to search for hashtags (\"#raptors\", \"#nba\") instead of just text\n",
    "    - With that said, we could search the [team-specific hashtags](https://news.sportslogos.net/2019/10/25/nba-twitter-team-emoji-hashtags-2019-2020/) (e.g. #WeTheNorth) to analyze opinions about teams or their players, but tweet frequency/volume for any of these is likely low\n",
    "- Treat RTs as single tweets?\n",
    "    - Drop the \"RT\" or include as stopword\n",
    "    - **For RTs, the tweet text is truncated, and the full RT'd tweet is included a bit deeper in the JSON object**\n",
    "\n",
    "Ultimately, gathering a large amount of data is no problem at all!"
   ]
  },
  {
   "cell_type": "markdown",
   "metadata": {},
   "source": [
    "---"
   ]
  },
  {
   "cell_type": "code",
   "execution_count": 1,
   "metadata": {},
   "outputs": [],
   "source": [
    "# import necessary packages\n",
    "import pandas as pd\n",
    "import twitter # to interact with the Twitter API\n",
    "from datetime import datetime # for creating datetime strings for naming file\n",
    "from time import sleep # to add a timer in between scrapes\n",
    "import glob # for file path names"
   ]
  },
  {
   "cell_type": "markdown",
   "metadata": {},
   "source": [
    "Using the Python `twitter` package, let's initiate an instance of the `twitter.api.Api` object from which we can makes calls to the Twitter API.\n",
    "\n",
    "**Please use your own consumer key, secret consumer key, access token key, and secret access token key to initialize the API instance!**"
   ]
  },
  {
   "cell_type": "code",
   "execution_count": null,
   "metadata": {},
   "outputs": [],
   "source": [
    "# initialize Twitter API instance - \n",
    "twitter_api = twitter.Api(\n",
    "    consumer_key = '',\n",
    "    consumer_secret = '',\n",
    "    access_token_key = '',\n",
    "    access_token_secret = '',\n",
    "    tweet_mode = 'extended' # return full tweets instead of the truncated (140 character) version\n",
    ") \n",
    "\n",
    "# verify credentials\n",
    "twitter_api.VerifyCredentials()"
   ]
  },
  {
   "cell_type": "markdown",
   "metadata": {},
   "source": [
    "## **Exploring the Twitter Standard Search API**"
   ]
  },
  {
   "cell_type": "code",
   "execution_count": 3,
   "metadata": {},
   "outputs": [],
   "source": [
    "# make a .GetSearch() call to the Twitter API \n",
    "test_fetch = twitter_api.GetSearch(\n",
    "    term = '#nba', # search term\n",
    "    lang = 'en', # English only\n",
    "    result_type = 'recent', # don't want only the popular tweets\n",
    "    include_entities = True, # extra information we might need?\n",
    "    return_json = True, # return the request as a JSON object\n",
    "    count = 2 # number of tweets to return\n",
    ")"
   ]
  },
  {
   "cell_type": "code",
   "execution_count": 4,
   "metadata": {},
   "outputs": [
    {
     "data": {
      "text/plain": [
       "dict"
      ]
     },
     "execution_count": 4,
     "metadata": {},
     "output_type": "execute_result"
    }
   ],
   "source": [
    "type(test_fetch) # check type"
   ]
  },
  {
   "cell_type": "code",
   "execution_count": 5,
   "metadata": {
    "scrolled": true
   },
   "outputs": [
    {
     "data": {
      "text/plain": [
       "{'statuses': [{'created_at': 'Thu Apr 16 20:59:37 +0000 2020',\n",
       "   'id': 1250891622264561665,\n",
       "   'id_str': '1250891622264561665',\n",
       "   'full_text': 'RT @OuttaHiura: #NBATwitter\\xa0\\xa0 GAIN TIME!\\n\\nIf you are a fan of the #NBA\\xa0\\xa0\\xa0and you follow back:\\n\\n• LIKE THIS TWEET\\n• FOLLOW EVERYONE WHO…',\n",
       "   'truncated': False,\n",
       "   'display_text_range': [0, 135],\n",
       "   'entities': {'hashtags': [{'text': 'NBATwitter', 'indices': [16, 27]},\n",
       "     {'text': 'NBA', 'indices': [66, 70]}],\n",
       "    'symbols': [],\n",
       "    'user_mentions': [{'screen_name': 'OuttaHiura',\n",
       "      'name': 'Zacv2',\n",
       "      'id': 1228502629233328129,\n",
       "      'id_str': '1228502629233328129',\n",
       "      'indices': [3, 14]}],\n",
       "    'urls': []},\n",
       "   'metadata': {'iso_language_code': 'en', 'result_type': 'recent'},\n",
       "   'source': '<a href=\"http://twitter.com/download/iphone\" rel=\"nofollow\">Twitter for iPhone</a>',\n",
       "   'in_reply_to_status_id': None,\n",
       "   'in_reply_to_status_id_str': None,\n",
       "   'in_reply_to_user_id': None,\n",
       "   'in_reply_to_user_id_str': None,\n",
       "   'in_reply_to_screen_name': None,\n",
       "   'user': {'id': 1227095906111180800,\n",
       "    'id_str': '1227095906111180800',\n",
       "    'name': '𝔹𝕒𝕤𝕜𝕖𝕥𝕓𝕒𝕝𝕝 𝕋𝕒𝕝𝕜™ 🚫🦠',\n",
       "    'screen_name': 'LetsTalkBucketz',\n",
       "    'location': '',\n",
       "    'description': '🚨 TALK TO US • SPEAK YOUR MIND • Any and All Things #NBA Basketball 🏀 ▂▃▅▆▇ 📢 #NBATwitter #DUBNation #FearTheDeer #WeGoHard •••• I FOLLOW BACK 💪🏼',\n",
       "    'url': None,\n",
       "    'entities': {'description': {'urls': []}},\n",
       "    'protected': False,\n",
       "    'followers_count': 1082,\n",
       "    'friends_count': 1691,\n",
       "    'listed_count': 0,\n",
       "    'created_at': 'Tue Feb 11 05:04:15 +0000 2020',\n",
       "    'favourites_count': 4545,\n",
       "    'utc_offset': None,\n",
       "    'time_zone': None,\n",
       "    'geo_enabled': False,\n",
       "    'verified': False,\n",
       "    'statuses_count': 4661,\n",
       "    'lang': None,\n",
       "    'contributors_enabled': False,\n",
       "    'is_translator': False,\n",
       "    'is_translation_enabled': False,\n",
       "    'profile_background_color': 'F5F8FA',\n",
       "    'profile_background_image_url': None,\n",
       "    'profile_background_image_url_https': None,\n",
       "    'profile_background_tile': False,\n",
       "    'profile_image_url': 'http://pbs.twimg.com/profile_images/1248099801922666496/kF5LDWhS_normal.jpg',\n",
       "    'profile_image_url_https': 'https://pbs.twimg.com/profile_images/1248099801922666496/kF5LDWhS_normal.jpg',\n",
       "    'profile_banner_url': 'https://pbs.twimg.com/profile_banners/1227095906111180800/1585184502',\n",
       "    'profile_link_color': '1DA1F2',\n",
       "    'profile_sidebar_border_color': 'C0DEED',\n",
       "    'profile_sidebar_fill_color': 'DDEEF6',\n",
       "    'profile_text_color': '333333',\n",
       "    'profile_use_background_image': True,\n",
       "    'has_extended_profile': True,\n",
       "    'default_profile': True,\n",
       "    'default_profile_image': False,\n",
       "    'following': False,\n",
       "    'follow_request_sent': False,\n",
       "    'notifications': False,\n",
       "    'translator_type': 'none'},\n",
       "   'geo': None,\n",
       "   'coordinates': None,\n",
       "   'place': None,\n",
       "   'contributors': None,\n",
       "   'retweeted_status': {'created_at': 'Thu Apr 16 16:05:51 +0000 2020',\n",
       "    'id': 1250817690085871622,\n",
       "    'id_str': '1250817690085871622',\n",
       "    'full_text': '#NBATwitter\\xa0\\xa0 GAIN TIME!\\n\\nIf you are a fan of the #NBA\\xa0\\xa0\\xa0and you follow back:\\n\\n• LIKE THIS TWEET\\n• FOLLOW EVERYONE WHO        LIKES THIS TWEET\\n• RT FOR MORE AUDIENCES\\n• FOLLOW ME @OuttaHiura 🔥\\n• REPLY WITH “IFB” \\n• FOLLOW EVERYBODY WHO DOES \\n\\n#NBAFollowTrains #NBATwitter',\n",
       "    'truncated': False,\n",
       "    'display_text_range': [0, 271],\n",
       "    'entities': {'hashtags': [{'text': 'NBATwitter', 'indices': [0, 11]},\n",
       "      {'text': 'NBA', 'indices': [50, 54]},\n",
       "      {'text': 'NBAFollowTrains', 'indices': [243, 259]},\n",
       "      {'text': 'NBATwitter', 'indices': [260, 271]}],\n",
       "     'symbols': [],\n",
       "     'user_mentions': [{'screen_name': 'OuttaHiura',\n",
       "       'name': 'Zacv2',\n",
       "       'id': 1228502629233328129,\n",
       "       'id_str': '1228502629233328129',\n",
       "       'indices': [179, 190]}],\n",
       "     'urls': []},\n",
       "    'metadata': {'iso_language_code': 'en', 'result_type': 'recent'},\n",
       "    'source': '<a href=\"http://twitter.com/download/iphone\" rel=\"nofollow\">Twitter for iPhone</a>',\n",
       "    'in_reply_to_status_id': None,\n",
       "    'in_reply_to_status_id_str': None,\n",
       "    'in_reply_to_user_id': None,\n",
       "    'in_reply_to_user_id_str': None,\n",
       "    'in_reply_to_screen_name': None,\n",
       "    'user': {'id': 1228502629233328129,\n",
       "     'id_str': '1228502629233328129',\n",
       "     'name': 'Zacv2',\n",
       "     'screen_name': 'OuttaHiura',\n",
       "     'location': 'Wisconsin, USA',\n",
       "     'description': '@KorverSZN_ Backup',\n",
       "     'url': None,\n",
       "     'entities': {'description': {'urls': []}},\n",
       "     'protected': False,\n",
       "     'followers_count': 434,\n",
       "     'friends_count': 435,\n",
       "     'listed_count': 2,\n",
       "     'created_at': 'Sat Feb 15 02:13:58 +0000 2020',\n",
       "     'favourites_count': 41,\n",
       "     'utc_offset': None,\n",
       "     'time_zone': None,\n",
       "     'geo_enabled': False,\n",
       "     'verified': False,\n",
       "     'statuses_count': 57,\n",
       "     'lang': None,\n",
       "     'contributors_enabled': False,\n",
       "     'is_translator': False,\n",
       "     'is_translation_enabled': False,\n",
       "     'profile_background_color': 'F5F8FA',\n",
       "     'profile_background_image_url': None,\n",
       "     'profile_background_image_url_https': None,\n",
       "     'profile_background_tile': False,\n",
       "     'profile_image_url': 'http://pbs.twimg.com/profile_images/1228502947874660352/A8io6YfU_normal.jpg',\n",
       "     'profile_image_url_https': 'https://pbs.twimg.com/profile_images/1228502947874660352/A8io6YfU_normal.jpg',\n",
       "     'profile_banner_url': 'https://pbs.twimg.com/profile_banners/1228502629233328129/1581732913',\n",
       "     'profile_link_color': '1DA1F2',\n",
       "     'profile_sidebar_border_color': 'C0DEED',\n",
       "     'profile_sidebar_fill_color': 'DDEEF6',\n",
       "     'profile_text_color': '333333',\n",
       "     'profile_use_background_image': True,\n",
       "     'has_extended_profile': True,\n",
       "     'default_profile': True,\n",
       "     'default_profile_image': False,\n",
       "     'following': False,\n",
       "     'follow_request_sent': False,\n",
       "     'notifications': False,\n",
       "     'translator_type': 'none'},\n",
       "    'geo': None,\n",
       "    'coordinates': None,\n",
       "    'place': None,\n",
       "    'contributors': None,\n",
       "    'is_quote_status': False,\n",
       "    'retweet_count': 8,\n",
       "    'favorite_count': 95,\n",
       "    'favorited': False,\n",
       "    'retweeted': False,\n",
       "    'lang': 'en'},\n",
       "   'is_quote_status': False,\n",
       "   'retweet_count': 8,\n",
       "   'favorite_count': 0,\n",
       "   'favorited': False,\n",
       "   'retweeted': False,\n",
       "   'lang': 'en'},\n",
       "  {'created_at': 'Thu Apr 16 20:59:27 +0000 2020',\n",
       "   'id': 1250891580246044678,\n",
       "   'id_str': '1250891580246044678',\n",
       "   'full_text': 'Tune in live #NotWhatItSiems with @CaitlinSiem!\\n#OnThisDay #NHL #NBA\\xa0 #MLB #NFL #BostonMarathon #SiemsToMe\\nhttps://t.co/UaTtm1CygY https://t.co/9kNaOP4pHh',\n",
       "   'truncated': False,\n",
       "   'display_text_range': [0, 130],\n",
       "   'entities': {'hashtags': [{'text': 'NotWhatItSiems', 'indices': [13, 28]},\n",
       "     {'text': 'OnThisDay', 'indices': [48, 58]},\n",
       "     {'text': 'NHL', 'indices': [59, 63]},\n",
       "     {'text': 'NBA', 'indices': [64, 68]},\n",
       "     {'text': 'MLB', 'indices': [70, 74]},\n",
       "     {'text': 'NFL', 'indices': [75, 79]},\n",
       "     {'text': 'BostonMarathon', 'indices': [80, 95]},\n",
       "     {'text': 'SiemsToMe', 'indices': [96, 106]}],\n",
       "    'symbols': [],\n",
       "    'user_mentions': [{'screen_name': 'CaitlinSiem',\n",
       "      'name': 'Caitlin Siem',\n",
       "      'id': 251449446,\n",
       "      'id_str': '251449446',\n",
       "      'indices': [34, 46]}],\n",
       "    'urls': [{'url': 'https://t.co/UaTtm1CygY',\n",
       "      'expanded_url': 'https://www.spreaker.com/show/not-what-it-siem-s',\n",
       "      'display_url': 'spreaker.com/show/not-what-…',\n",
       "      'indices': [107, 130]}],\n",
       "    'media': [{'id': 1250891571320377344,\n",
       "      'id_str': '1250891571320377344',\n",
       "      'indices': [131, 154],\n",
       "      'media_url': 'http://pbs.twimg.com/media/EVwPQbEU0AA15Ec.jpg',\n",
       "      'media_url_https': 'https://pbs.twimg.com/media/EVwPQbEU0AA15Ec.jpg',\n",
       "      'url': 'https://t.co/9kNaOP4pHh',\n",
       "      'display_url': 'pic.twitter.com/9kNaOP4pHh',\n",
       "      'expanded_url': 'https://twitter.com/IESportsRadio/status/1250891580246044678/photo/1',\n",
       "      'type': 'photo',\n",
       "      'sizes': {'medium': {'w': 1193, 'h': 1191, 'resize': 'fit'},\n",
       "       'thumb': {'w': 150, 'h': 150, 'resize': 'crop'},\n",
       "       'small': {'w': 680, 'h': 679, 'resize': 'fit'},\n",
       "       'large': {'w': 1193, 'h': 1191, 'resize': 'fit'}}}]},\n",
       "   'extended_entities': {'media': [{'id': 1250891571320377344,\n",
       "      'id_str': '1250891571320377344',\n",
       "      'indices': [131, 154],\n",
       "      'media_url': 'http://pbs.twimg.com/media/EVwPQbEU0AA15Ec.jpg',\n",
       "      'media_url_https': 'https://pbs.twimg.com/media/EVwPQbEU0AA15Ec.jpg',\n",
       "      'url': 'https://t.co/9kNaOP4pHh',\n",
       "      'display_url': 'pic.twitter.com/9kNaOP4pHh',\n",
       "      'expanded_url': 'https://twitter.com/IESportsRadio/status/1250891580246044678/photo/1',\n",
       "      'type': 'photo',\n",
       "      'sizes': {'medium': {'w': 1193, 'h': 1191, 'resize': 'fit'},\n",
       "       'thumb': {'w': 150, 'h': 150, 'resize': 'crop'},\n",
       "       'small': {'w': 680, 'h': 679, 'resize': 'fit'},\n",
       "       'large': {'w': 1193, 'h': 1191, 'resize': 'fit'}}}]},\n",
       "   'metadata': {'iso_language_code': 'en', 'result_type': 'recent'},\n",
       "   'source': '<a href=\"http://twitter.com/download/iphone\" rel=\"nofollow\">Twitter for iPhone</a>',\n",
       "   'in_reply_to_status_id': None,\n",
       "   'in_reply_to_status_id_str': None,\n",
       "   'in_reply_to_user_id': None,\n",
       "   'in_reply_to_user_id_str': None,\n",
       "   'in_reply_to_screen_name': None,\n",
       "   'user': {'id': 2519463614,\n",
       "    'id_str': '2519463614',\n",
       "    'name': 'IE Sports Radio',\n",
       "    'screen_name': 'IESportsRadio',\n",
       "    'location': '',\n",
       "    'description': 'Welcome to #IESportsRadio! Your direct feed for all that is sports!',\n",
       "    'url': 'https://t.co/myy9imGdjA',\n",
       "    'entities': {'url': {'urls': [{'url': 'https://t.co/myy9imGdjA',\n",
       "        'expanded_url': 'https://www.iesportsradio.com',\n",
       "        'display_url': 'iesportsradio.com',\n",
       "        'indices': [0, 23]}]},\n",
       "     'description': {'urls': []}},\n",
       "    'protected': False,\n",
       "    'followers_count': 1074,\n",
       "    'friends_count': 1346,\n",
       "    'listed_count': 197,\n",
       "    'created_at': 'Sat May 24 04:29:20 +0000 2014',\n",
       "    'favourites_count': 4577,\n",
       "    'utc_offset': None,\n",
       "    'time_zone': None,\n",
       "    'geo_enabled': False,\n",
       "    'verified': False,\n",
       "    'statuses_count': 63011,\n",
       "    'lang': None,\n",
       "    'contributors_enabled': False,\n",
       "    'is_translator': False,\n",
       "    'is_translation_enabled': False,\n",
       "    'profile_background_color': 'C0DEED',\n",
       "    'profile_background_image_url': 'http://abs.twimg.com/images/themes/theme1/bg.png',\n",
       "    'profile_background_image_url_https': 'https://abs.twimg.com/images/themes/theme1/bg.png',\n",
       "    'profile_background_tile': False,\n",
       "    'profile_image_url': 'http://pbs.twimg.com/profile_images/996785577990082563/ezWi3n7x_normal.jpg',\n",
       "    'profile_image_url_https': 'https://pbs.twimg.com/profile_images/996785577990082563/ezWi3n7x_normal.jpg',\n",
       "    'profile_banner_url': 'https://pbs.twimg.com/profile_banners/2519463614/1526487097',\n",
       "    'profile_link_color': '3B94D9',\n",
       "    'profile_sidebar_border_color': 'C0DEED',\n",
       "    'profile_sidebar_fill_color': 'DDEEF6',\n",
       "    'profile_text_color': '333333',\n",
       "    'profile_use_background_image': True,\n",
       "    'has_extended_profile': False,\n",
       "    'default_profile': False,\n",
       "    'default_profile_image': False,\n",
       "    'following': False,\n",
       "    'follow_request_sent': False,\n",
       "    'notifications': False,\n",
       "    'translator_type': 'none'},\n",
       "   'geo': None,\n",
       "   'coordinates': None,\n",
       "   'place': None,\n",
       "   'contributors': None,\n",
       "   'is_quote_status': False,\n",
       "   'retweet_count': 0,\n",
       "   'favorite_count': 0,\n",
       "   'favorited': False,\n",
       "   'retweeted': False,\n",
       "   'possibly_sensitive': False,\n",
       "   'lang': 'en'}],\n",
       " 'search_metadata': {'completed_in': 0.03,\n",
       "  'max_id': 1250891622264561665,\n",
       "  'max_id_str': '1250891622264561665',\n",
       "  'next_results': '?max_id=1250891580246044677&q=%23nba&lang=en&count=2&include_entities=1&result_type=recent',\n",
       "  'query': '%23nba',\n",
       "  'refresh_url': '?since_id=1250891622264561665&q=%23nba&lang=en&result_type=recent&include_entities=1',\n",
       "  'count': 2,\n",
       "  'since_id': 0,\n",
       "  'since_id_str': '0'}}"
      ]
     },
     "execution_count": 5,
     "metadata": {},
     "output_type": "execute_result"
    }
   ],
   "source": [
    "test_fetch # preview"
   ]
  },
  {
   "cell_type": "markdown",
   "metadata": {},
   "source": [
    "The `.GetSearch()` function on the `twitter.api.Api` object simply returns tweets and their various meta/data in a nested `dict` format (i.e. JSON)."
   ]
  },
  {
   "cell_type": "code",
   "execution_count": 6,
   "metadata": {},
   "outputs": [
    {
     "data": {
      "text/plain": [
       "dict_keys(['statuses', 'search_metadata'])"
      ]
     },
     "execution_count": 6,
     "metadata": {},
     "output_type": "execute_result"
    }
   ],
   "source": [
    "test_fetch.keys()"
   ]
  },
  {
   "cell_type": "markdown",
   "metadata": {},
   "source": [
    "There are just two dictionary keys in the `.GetSearch()` return: `statuses` and `search_metadata`."
   ]
  },
  {
   "cell_type": "code",
   "execution_count": 7,
   "metadata": {},
   "outputs": [
    {
     "data": {
      "text/plain": [
       "list"
      ]
     },
     "execution_count": 7,
     "metadata": {},
     "output_type": "execute_result"
    }
   ],
   "source": [
    "type(test_fetch['statuses'])"
   ]
  },
  {
   "cell_type": "code",
   "execution_count": 8,
   "metadata": {
    "scrolled": true
   },
   "outputs": [
    {
     "data": {
      "text/plain": [
       "[{'created_at': 'Thu Apr 16 20:59:37 +0000 2020',\n",
       "  'id': 1250891622264561665,\n",
       "  'id_str': '1250891622264561665',\n",
       "  'full_text': 'RT @OuttaHiura: #NBATwitter\\xa0\\xa0 GAIN TIME!\\n\\nIf you are a fan of the #NBA\\xa0\\xa0\\xa0and you follow back:\\n\\n• LIKE THIS TWEET\\n• FOLLOW EVERYONE WHO…',\n",
       "  'truncated': False,\n",
       "  'display_text_range': [0, 135],\n",
       "  'entities': {'hashtags': [{'text': 'NBATwitter', 'indices': [16, 27]},\n",
       "    {'text': 'NBA', 'indices': [66, 70]}],\n",
       "   'symbols': [],\n",
       "   'user_mentions': [{'screen_name': 'OuttaHiura',\n",
       "     'name': 'Zacv2',\n",
       "     'id': 1228502629233328129,\n",
       "     'id_str': '1228502629233328129',\n",
       "     'indices': [3, 14]}],\n",
       "   'urls': []},\n",
       "  'metadata': {'iso_language_code': 'en', 'result_type': 'recent'},\n",
       "  'source': '<a href=\"http://twitter.com/download/iphone\" rel=\"nofollow\">Twitter for iPhone</a>',\n",
       "  'in_reply_to_status_id': None,\n",
       "  'in_reply_to_status_id_str': None,\n",
       "  'in_reply_to_user_id': None,\n",
       "  'in_reply_to_user_id_str': None,\n",
       "  'in_reply_to_screen_name': None,\n",
       "  'user': {'id': 1227095906111180800,\n",
       "   'id_str': '1227095906111180800',\n",
       "   'name': '𝔹𝕒𝕤𝕜𝕖𝕥𝕓𝕒𝕝𝕝 𝕋𝕒𝕝𝕜™ 🚫🦠',\n",
       "   'screen_name': 'LetsTalkBucketz',\n",
       "   'location': '',\n",
       "   'description': '🚨 TALK TO US • SPEAK YOUR MIND • Any and All Things #NBA Basketball 🏀 ▂▃▅▆▇ 📢 #NBATwitter #DUBNation #FearTheDeer #WeGoHard •••• I FOLLOW BACK 💪🏼',\n",
       "   'url': None,\n",
       "   'entities': {'description': {'urls': []}},\n",
       "   'protected': False,\n",
       "   'followers_count': 1082,\n",
       "   'friends_count': 1691,\n",
       "   'listed_count': 0,\n",
       "   'created_at': 'Tue Feb 11 05:04:15 +0000 2020',\n",
       "   'favourites_count': 4545,\n",
       "   'utc_offset': None,\n",
       "   'time_zone': None,\n",
       "   'geo_enabled': False,\n",
       "   'verified': False,\n",
       "   'statuses_count': 4661,\n",
       "   'lang': None,\n",
       "   'contributors_enabled': False,\n",
       "   'is_translator': False,\n",
       "   'is_translation_enabled': False,\n",
       "   'profile_background_color': 'F5F8FA',\n",
       "   'profile_background_image_url': None,\n",
       "   'profile_background_image_url_https': None,\n",
       "   'profile_background_tile': False,\n",
       "   'profile_image_url': 'http://pbs.twimg.com/profile_images/1248099801922666496/kF5LDWhS_normal.jpg',\n",
       "   'profile_image_url_https': 'https://pbs.twimg.com/profile_images/1248099801922666496/kF5LDWhS_normal.jpg',\n",
       "   'profile_banner_url': 'https://pbs.twimg.com/profile_banners/1227095906111180800/1585184502',\n",
       "   'profile_link_color': '1DA1F2',\n",
       "   'profile_sidebar_border_color': 'C0DEED',\n",
       "   'profile_sidebar_fill_color': 'DDEEF6',\n",
       "   'profile_text_color': '333333',\n",
       "   'profile_use_background_image': True,\n",
       "   'has_extended_profile': True,\n",
       "   'default_profile': True,\n",
       "   'default_profile_image': False,\n",
       "   'following': False,\n",
       "   'follow_request_sent': False,\n",
       "   'notifications': False,\n",
       "   'translator_type': 'none'},\n",
       "  'geo': None,\n",
       "  'coordinates': None,\n",
       "  'place': None,\n",
       "  'contributors': None,\n",
       "  'retweeted_status': {'created_at': 'Thu Apr 16 16:05:51 +0000 2020',\n",
       "   'id': 1250817690085871622,\n",
       "   'id_str': '1250817690085871622',\n",
       "   'full_text': '#NBATwitter\\xa0\\xa0 GAIN TIME!\\n\\nIf you are a fan of the #NBA\\xa0\\xa0\\xa0and you follow back:\\n\\n• LIKE THIS TWEET\\n• FOLLOW EVERYONE WHO        LIKES THIS TWEET\\n• RT FOR MORE AUDIENCES\\n• FOLLOW ME @OuttaHiura 🔥\\n• REPLY WITH “IFB” \\n• FOLLOW EVERYBODY WHO DOES \\n\\n#NBAFollowTrains #NBATwitter',\n",
       "   'truncated': False,\n",
       "   'display_text_range': [0, 271],\n",
       "   'entities': {'hashtags': [{'text': 'NBATwitter', 'indices': [0, 11]},\n",
       "     {'text': 'NBA', 'indices': [50, 54]},\n",
       "     {'text': 'NBAFollowTrains', 'indices': [243, 259]},\n",
       "     {'text': 'NBATwitter', 'indices': [260, 271]}],\n",
       "    'symbols': [],\n",
       "    'user_mentions': [{'screen_name': 'OuttaHiura',\n",
       "      'name': 'Zacv2',\n",
       "      'id': 1228502629233328129,\n",
       "      'id_str': '1228502629233328129',\n",
       "      'indices': [179, 190]}],\n",
       "    'urls': []},\n",
       "   'metadata': {'iso_language_code': 'en', 'result_type': 'recent'},\n",
       "   'source': '<a href=\"http://twitter.com/download/iphone\" rel=\"nofollow\">Twitter for iPhone</a>',\n",
       "   'in_reply_to_status_id': None,\n",
       "   'in_reply_to_status_id_str': None,\n",
       "   'in_reply_to_user_id': None,\n",
       "   'in_reply_to_user_id_str': None,\n",
       "   'in_reply_to_screen_name': None,\n",
       "   'user': {'id': 1228502629233328129,\n",
       "    'id_str': '1228502629233328129',\n",
       "    'name': 'Zacv2',\n",
       "    'screen_name': 'OuttaHiura',\n",
       "    'location': 'Wisconsin, USA',\n",
       "    'description': '@KorverSZN_ Backup',\n",
       "    'url': None,\n",
       "    'entities': {'description': {'urls': []}},\n",
       "    'protected': False,\n",
       "    'followers_count': 434,\n",
       "    'friends_count': 435,\n",
       "    'listed_count': 2,\n",
       "    'created_at': 'Sat Feb 15 02:13:58 +0000 2020',\n",
       "    'favourites_count': 41,\n",
       "    'utc_offset': None,\n",
       "    'time_zone': None,\n",
       "    'geo_enabled': False,\n",
       "    'verified': False,\n",
       "    'statuses_count': 57,\n",
       "    'lang': None,\n",
       "    'contributors_enabled': False,\n",
       "    'is_translator': False,\n",
       "    'is_translation_enabled': False,\n",
       "    'profile_background_color': 'F5F8FA',\n",
       "    'profile_background_image_url': None,\n",
       "    'profile_background_image_url_https': None,\n",
       "    'profile_background_tile': False,\n",
       "    'profile_image_url': 'http://pbs.twimg.com/profile_images/1228502947874660352/A8io6YfU_normal.jpg',\n",
       "    'profile_image_url_https': 'https://pbs.twimg.com/profile_images/1228502947874660352/A8io6YfU_normal.jpg',\n",
       "    'profile_banner_url': 'https://pbs.twimg.com/profile_banners/1228502629233328129/1581732913',\n",
       "    'profile_link_color': '1DA1F2',\n",
       "    'profile_sidebar_border_color': 'C0DEED',\n",
       "    'profile_sidebar_fill_color': 'DDEEF6',\n",
       "    'profile_text_color': '333333',\n",
       "    'profile_use_background_image': True,\n",
       "    'has_extended_profile': True,\n",
       "    'default_profile': True,\n",
       "    'default_profile_image': False,\n",
       "    'following': False,\n",
       "    'follow_request_sent': False,\n",
       "    'notifications': False,\n",
       "    'translator_type': 'none'},\n",
       "   'geo': None,\n",
       "   'coordinates': None,\n",
       "   'place': None,\n",
       "   'contributors': None,\n",
       "   'is_quote_status': False,\n",
       "   'retweet_count': 8,\n",
       "   'favorite_count': 95,\n",
       "   'favorited': False,\n",
       "   'retweeted': False,\n",
       "   'lang': 'en'},\n",
       "  'is_quote_status': False,\n",
       "  'retweet_count': 8,\n",
       "  'favorite_count': 0,\n",
       "  'favorited': False,\n",
       "  'retweeted': False,\n",
       "  'lang': 'en'},\n",
       " {'created_at': 'Thu Apr 16 20:59:27 +0000 2020',\n",
       "  'id': 1250891580246044678,\n",
       "  'id_str': '1250891580246044678',\n",
       "  'full_text': 'Tune in live #NotWhatItSiems with @CaitlinSiem!\\n#OnThisDay #NHL #NBA\\xa0 #MLB #NFL #BostonMarathon #SiemsToMe\\nhttps://t.co/UaTtm1CygY https://t.co/9kNaOP4pHh',\n",
       "  'truncated': False,\n",
       "  'display_text_range': [0, 130],\n",
       "  'entities': {'hashtags': [{'text': 'NotWhatItSiems', 'indices': [13, 28]},\n",
       "    {'text': 'OnThisDay', 'indices': [48, 58]},\n",
       "    {'text': 'NHL', 'indices': [59, 63]},\n",
       "    {'text': 'NBA', 'indices': [64, 68]},\n",
       "    {'text': 'MLB', 'indices': [70, 74]},\n",
       "    {'text': 'NFL', 'indices': [75, 79]},\n",
       "    {'text': 'BostonMarathon', 'indices': [80, 95]},\n",
       "    {'text': 'SiemsToMe', 'indices': [96, 106]}],\n",
       "   'symbols': [],\n",
       "   'user_mentions': [{'screen_name': 'CaitlinSiem',\n",
       "     'name': 'Caitlin Siem',\n",
       "     'id': 251449446,\n",
       "     'id_str': '251449446',\n",
       "     'indices': [34, 46]}],\n",
       "   'urls': [{'url': 'https://t.co/UaTtm1CygY',\n",
       "     'expanded_url': 'https://www.spreaker.com/show/not-what-it-siem-s',\n",
       "     'display_url': 'spreaker.com/show/not-what-…',\n",
       "     'indices': [107, 130]}],\n",
       "   'media': [{'id': 1250891571320377344,\n",
       "     'id_str': '1250891571320377344',\n",
       "     'indices': [131, 154],\n",
       "     'media_url': 'http://pbs.twimg.com/media/EVwPQbEU0AA15Ec.jpg',\n",
       "     'media_url_https': 'https://pbs.twimg.com/media/EVwPQbEU0AA15Ec.jpg',\n",
       "     'url': 'https://t.co/9kNaOP4pHh',\n",
       "     'display_url': 'pic.twitter.com/9kNaOP4pHh',\n",
       "     'expanded_url': 'https://twitter.com/IESportsRadio/status/1250891580246044678/photo/1',\n",
       "     'type': 'photo',\n",
       "     'sizes': {'medium': {'w': 1193, 'h': 1191, 'resize': 'fit'},\n",
       "      'thumb': {'w': 150, 'h': 150, 'resize': 'crop'},\n",
       "      'small': {'w': 680, 'h': 679, 'resize': 'fit'},\n",
       "      'large': {'w': 1193, 'h': 1191, 'resize': 'fit'}}}]},\n",
       "  'extended_entities': {'media': [{'id': 1250891571320377344,\n",
       "     'id_str': '1250891571320377344',\n",
       "     'indices': [131, 154],\n",
       "     'media_url': 'http://pbs.twimg.com/media/EVwPQbEU0AA15Ec.jpg',\n",
       "     'media_url_https': 'https://pbs.twimg.com/media/EVwPQbEU0AA15Ec.jpg',\n",
       "     'url': 'https://t.co/9kNaOP4pHh',\n",
       "     'display_url': 'pic.twitter.com/9kNaOP4pHh',\n",
       "     'expanded_url': 'https://twitter.com/IESportsRadio/status/1250891580246044678/photo/1',\n",
       "     'type': 'photo',\n",
       "     'sizes': {'medium': {'w': 1193, 'h': 1191, 'resize': 'fit'},\n",
       "      'thumb': {'w': 150, 'h': 150, 'resize': 'crop'},\n",
       "      'small': {'w': 680, 'h': 679, 'resize': 'fit'},\n",
       "      'large': {'w': 1193, 'h': 1191, 'resize': 'fit'}}}]},\n",
       "  'metadata': {'iso_language_code': 'en', 'result_type': 'recent'},\n",
       "  'source': '<a href=\"http://twitter.com/download/iphone\" rel=\"nofollow\">Twitter for iPhone</a>',\n",
       "  'in_reply_to_status_id': None,\n",
       "  'in_reply_to_status_id_str': None,\n",
       "  'in_reply_to_user_id': None,\n",
       "  'in_reply_to_user_id_str': None,\n",
       "  'in_reply_to_screen_name': None,\n",
       "  'user': {'id': 2519463614,\n",
       "   'id_str': '2519463614',\n",
       "   'name': 'IE Sports Radio',\n",
       "   'screen_name': 'IESportsRadio',\n",
       "   'location': '',\n",
       "   'description': 'Welcome to #IESportsRadio! Your direct feed for all that is sports!',\n",
       "   'url': 'https://t.co/myy9imGdjA',\n",
       "   'entities': {'url': {'urls': [{'url': 'https://t.co/myy9imGdjA',\n",
       "       'expanded_url': 'https://www.iesportsradio.com',\n",
       "       'display_url': 'iesportsradio.com',\n",
       "       'indices': [0, 23]}]},\n",
       "    'description': {'urls': []}},\n",
       "   'protected': False,\n",
       "   'followers_count': 1074,\n",
       "   'friends_count': 1346,\n",
       "   'listed_count': 197,\n",
       "   'created_at': 'Sat May 24 04:29:20 +0000 2014',\n",
       "   'favourites_count': 4577,\n",
       "   'utc_offset': None,\n",
       "   'time_zone': None,\n",
       "   'geo_enabled': False,\n",
       "   'verified': False,\n",
       "   'statuses_count': 63011,\n",
       "   'lang': None,\n",
       "   'contributors_enabled': False,\n",
       "   'is_translator': False,\n",
       "   'is_translation_enabled': False,\n",
       "   'profile_background_color': 'C0DEED',\n",
       "   'profile_background_image_url': 'http://abs.twimg.com/images/themes/theme1/bg.png',\n",
       "   'profile_background_image_url_https': 'https://abs.twimg.com/images/themes/theme1/bg.png',\n",
       "   'profile_background_tile': False,\n",
       "   'profile_image_url': 'http://pbs.twimg.com/profile_images/996785577990082563/ezWi3n7x_normal.jpg',\n",
       "   'profile_image_url_https': 'https://pbs.twimg.com/profile_images/996785577990082563/ezWi3n7x_normal.jpg',\n",
       "   'profile_banner_url': 'https://pbs.twimg.com/profile_banners/2519463614/1526487097',\n",
       "   'profile_link_color': '3B94D9',\n",
       "   'profile_sidebar_border_color': 'C0DEED',\n",
       "   'profile_sidebar_fill_color': 'DDEEF6',\n",
       "   'profile_text_color': '333333',\n",
       "   'profile_use_background_image': True,\n",
       "   'has_extended_profile': False,\n",
       "   'default_profile': False,\n",
       "   'default_profile_image': False,\n",
       "   'following': False,\n",
       "   'follow_request_sent': False,\n",
       "   'notifications': False,\n",
       "   'translator_type': 'none'},\n",
       "  'geo': None,\n",
       "  'coordinates': None,\n",
       "  'place': None,\n",
       "  'contributors': None,\n",
       "  'is_quote_status': False,\n",
       "  'retweet_count': 0,\n",
       "  'favorite_count': 0,\n",
       "  'favorited': False,\n",
       "  'retweeted': False,\n",
       "  'possibly_sensitive': False,\n",
       "  'lang': 'en'}]"
      ]
     },
     "execution_count": 8,
     "metadata": {},
     "output_type": "execute_result"
    }
   ],
   "source": [
    "test_fetch['statuses']"
   ]
  },
  {
   "cell_type": "markdown",
   "metadata": {},
   "source": [
    "Under the 'statuses' key is a `list` of all the tweets and info returned."
   ]
  },
  {
   "cell_type": "code",
   "execution_count": 9,
   "metadata": {},
   "outputs": [
    {
     "data": {
      "text/plain": [
       "dict"
      ]
     },
     "execution_count": 9,
     "metadata": {},
     "output_type": "execute_result"
    }
   ],
   "source": [
    "type(test_fetch['statuses'][0])"
   ]
  },
  {
   "cell_type": "markdown",
   "metadata": {},
   "source": [
    "Each of these `statuses` list items is a `dict` that contains info for a single tweet.\n",
    "\n",
    "Let's index one of these and see what information lies within."
   ]
  },
  {
   "cell_type": "code",
   "execution_count": 10,
   "metadata": {
    "scrolled": true
   },
   "outputs": [
    {
     "data": {
      "text/plain": [
       "{'created_at': 'Thu Apr 16 20:59:37 +0000 2020',\n",
       " 'id': 1250891622264561665,\n",
       " 'id_str': '1250891622264561665',\n",
       " 'full_text': 'RT @OuttaHiura: #NBATwitter\\xa0\\xa0 GAIN TIME!\\n\\nIf you are a fan of the #NBA\\xa0\\xa0\\xa0and you follow back:\\n\\n• LIKE THIS TWEET\\n• FOLLOW EVERYONE WHO…',\n",
       " 'truncated': False,\n",
       " 'display_text_range': [0, 135],\n",
       " 'entities': {'hashtags': [{'text': 'NBATwitter', 'indices': [16, 27]},\n",
       "   {'text': 'NBA', 'indices': [66, 70]}],\n",
       "  'symbols': [],\n",
       "  'user_mentions': [{'screen_name': 'OuttaHiura',\n",
       "    'name': 'Zacv2',\n",
       "    'id': 1228502629233328129,\n",
       "    'id_str': '1228502629233328129',\n",
       "    'indices': [3, 14]}],\n",
       "  'urls': []},\n",
       " 'metadata': {'iso_language_code': 'en', 'result_type': 'recent'},\n",
       " 'source': '<a href=\"http://twitter.com/download/iphone\" rel=\"nofollow\">Twitter for iPhone</a>',\n",
       " 'in_reply_to_status_id': None,\n",
       " 'in_reply_to_status_id_str': None,\n",
       " 'in_reply_to_user_id': None,\n",
       " 'in_reply_to_user_id_str': None,\n",
       " 'in_reply_to_screen_name': None,\n",
       " 'user': {'id': 1227095906111180800,\n",
       "  'id_str': '1227095906111180800',\n",
       "  'name': '𝔹𝕒𝕤𝕜𝕖𝕥𝕓𝕒𝕝𝕝 𝕋𝕒𝕝𝕜™ 🚫🦠',\n",
       "  'screen_name': 'LetsTalkBucketz',\n",
       "  'location': '',\n",
       "  'description': '🚨 TALK TO US • SPEAK YOUR MIND • Any and All Things #NBA Basketball 🏀 ▂▃▅▆▇ 📢 #NBATwitter #DUBNation #FearTheDeer #WeGoHard •••• I FOLLOW BACK 💪🏼',\n",
       "  'url': None,\n",
       "  'entities': {'description': {'urls': []}},\n",
       "  'protected': False,\n",
       "  'followers_count': 1082,\n",
       "  'friends_count': 1691,\n",
       "  'listed_count': 0,\n",
       "  'created_at': 'Tue Feb 11 05:04:15 +0000 2020',\n",
       "  'favourites_count': 4545,\n",
       "  'utc_offset': None,\n",
       "  'time_zone': None,\n",
       "  'geo_enabled': False,\n",
       "  'verified': False,\n",
       "  'statuses_count': 4661,\n",
       "  'lang': None,\n",
       "  'contributors_enabled': False,\n",
       "  'is_translator': False,\n",
       "  'is_translation_enabled': False,\n",
       "  'profile_background_color': 'F5F8FA',\n",
       "  'profile_background_image_url': None,\n",
       "  'profile_background_image_url_https': None,\n",
       "  'profile_background_tile': False,\n",
       "  'profile_image_url': 'http://pbs.twimg.com/profile_images/1248099801922666496/kF5LDWhS_normal.jpg',\n",
       "  'profile_image_url_https': 'https://pbs.twimg.com/profile_images/1248099801922666496/kF5LDWhS_normal.jpg',\n",
       "  'profile_banner_url': 'https://pbs.twimg.com/profile_banners/1227095906111180800/1585184502',\n",
       "  'profile_link_color': '1DA1F2',\n",
       "  'profile_sidebar_border_color': 'C0DEED',\n",
       "  'profile_sidebar_fill_color': 'DDEEF6',\n",
       "  'profile_text_color': '333333',\n",
       "  'profile_use_background_image': True,\n",
       "  'has_extended_profile': True,\n",
       "  'default_profile': True,\n",
       "  'default_profile_image': False,\n",
       "  'following': False,\n",
       "  'follow_request_sent': False,\n",
       "  'notifications': False,\n",
       "  'translator_type': 'none'},\n",
       " 'geo': None,\n",
       " 'coordinates': None,\n",
       " 'place': None,\n",
       " 'contributors': None,\n",
       " 'retweeted_status': {'created_at': 'Thu Apr 16 16:05:51 +0000 2020',\n",
       "  'id': 1250817690085871622,\n",
       "  'id_str': '1250817690085871622',\n",
       "  'full_text': '#NBATwitter\\xa0\\xa0 GAIN TIME!\\n\\nIf you are a fan of the #NBA\\xa0\\xa0\\xa0and you follow back:\\n\\n• LIKE THIS TWEET\\n• FOLLOW EVERYONE WHO        LIKES THIS TWEET\\n• RT FOR MORE AUDIENCES\\n• FOLLOW ME @OuttaHiura 🔥\\n• REPLY WITH “IFB” \\n• FOLLOW EVERYBODY WHO DOES \\n\\n#NBAFollowTrains #NBATwitter',\n",
       "  'truncated': False,\n",
       "  'display_text_range': [0, 271],\n",
       "  'entities': {'hashtags': [{'text': 'NBATwitter', 'indices': [0, 11]},\n",
       "    {'text': 'NBA', 'indices': [50, 54]},\n",
       "    {'text': 'NBAFollowTrains', 'indices': [243, 259]},\n",
       "    {'text': 'NBATwitter', 'indices': [260, 271]}],\n",
       "   'symbols': [],\n",
       "   'user_mentions': [{'screen_name': 'OuttaHiura',\n",
       "     'name': 'Zacv2',\n",
       "     'id': 1228502629233328129,\n",
       "     'id_str': '1228502629233328129',\n",
       "     'indices': [179, 190]}],\n",
       "   'urls': []},\n",
       "  'metadata': {'iso_language_code': 'en', 'result_type': 'recent'},\n",
       "  'source': '<a href=\"http://twitter.com/download/iphone\" rel=\"nofollow\">Twitter for iPhone</a>',\n",
       "  'in_reply_to_status_id': None,\n",
       "  'in_reply_to_status_id_str': None,\n",
       "  'in_reply_to_user_id': None,\n",
       "  'in_reply_to_user_id_str': None,\n",
       "  'in_reply_to_screen_name': None,\n",
       "  'user': {'id': 1228502629233328129,\n",
       "   'id_str': '1228502629233328129',\n",
       "   'name': 'Zacv2',\n",
       "   'screen_name': 'OuttaHiura',\n",
       "   'location': 'Wisconsin, USA',\n",
       "   'description': '@KorverSZN_ Backup',\n",
       "   'url': None,\n",
       "   'entities': {'description': {'urls': []}},\n",
       "   'protected': False,\n",
       "   'followers_count': 434,\n",
       "   'friends_count': 435,\n",
       "   'listed_count': 2,\n",
       "   'created_at': 'Sat Feb 15 02:13:58 +0000 2020',\n",
       "   'favourites_count': 41,\n",
       "   'utc_offset': None,\n",
       "   'time_zone': None,\n",
       "   'geo_enabled': False,\n",
       "   'verified': False,\n",
       "   'statuses_count': 57,\n",
       "   'lang': None,\n",
       "   'contributors_enabled': False,\n",
       "   'is_translator': False,\n",
       "   'is_translation_enabled': False,\n",
       "   'profile_background_color': 'F5F8FA',\n",
       "   'profile_background_image_url': None,\n",
       "   'profile_background_image_url_https': None,\n",
       "   'profile_background_tile': False,\n",
       "   'profile_image_url': 'http://pbs.twimg.com/profile_images/1228502947874660352/A8io6YfU_normal.jpg',\n",
       "   'profile_image_url_https': 'https://pbs.twimg.com/profile_images/1228502947874660352/A8io6YfU_normal.jpg',\n",
       "   'profile_banner_url': 'https://pbs.twimg.com/profile_banners/1228502629233328129/1581732913',\n",
       "   'profile_link_color': '1DA1F2',\n",
       "   'profile_sidebar_border_color': 'C0DEED',\n",
       "   'profile_sidebar_fill_color': 'DDEEF6',\n",
       "   'profile_text_color': '333333',\n",
       "   'profile_use_background_image': True,\n",
       "   'has_extended_profile': True,\n",
       "   'default_profile': True,\n",
       "   'default_profile_image': False,\n",
       "   'following': False,\n",
       "   'follow_request_sent': False,\n",
       "   'notifications': False,\n",
       "   'translator_type': 'none'},\n",
       "  'geo': None,\n",
       "  'coordinates': None,\n",
       "  'place': None,\n",
       "  'contributors': None,\n",
       "  'is_quote_status': False,\n",
       "  'retweet_count': 8,\n",
       "  'favorite_count': 95,\n",
       "  'favorited': False,\n",
       "  'retweeted': False,\n",
       "  'lang': 'en'},\n",
       " 'is_quote_status': False,\n",
       " 'retweet_count': 8,\n",
       " 'favorite_count': 0,\n",
       " 'favorited': False,\n",
       " 'retweeted': False,\n",
       " 'lang': 'en'}"
      ]
     },
     "execution_count": 10,
     "metadata": {},
     "output_type": "execute_result"
    }
   ],
   "source": [
    "test_fetch['statuses'][0]"
   ]
  },
  {
   "cell_type": "code",
   "execution_count": 25,
   "metadata": {},
   "outputs": [
    {
     "data": {
      "text/plain": [
       "dict_keys(['created_at', 'id', 'id_str', 'full_text', 'truncated', 'display_text_range', 'entities', 'metadata', 'source', 'in_reply_to_status_id', 'in_reply_to_status_id_str', 'in_reply_to_user_id', 'in_reply_to_user_id_str', 'in_reply_to_screen_name', 'user', 'geo', 'coordinates', 'place', 'contributors', 'retweeted_status', 'is_quote_status', 'retweet_count', 'favorite_count', 'favorited', 'retweeted', 'lang'])"
      ]
     },
     "execution_count": 25,
     "metadata": {},
     "output_type": "execute_result"
    }
   ],
   "source": [
    "test_fetch['statuses'][0].keys()"
   ]
  },
  {
   "cell_type": "markdown",
   "metadata": {},
   "source": [
    "Above are all the keys under each `statuses` `dict`.  Potentially useful fields to retrieve information from are:\n",
    "\n",
    "- `created_at` - timestamp\n",
    "- `id` - ID of tweet\n",
    "- `full_text`/`retweeted_status` - the tweet or retweeted tweet text\n",
    "- `entities` - extra info?\n",
    "- `metadata` - extra info?\n",
    "- `user`\n",
    "\n",
    "Let's look into each of these."
   ]
  },
  {
   "cell_type": "code",
   "execution_count": 26,
   "metadata": {
    "scrolled": true
   },
   "outputs": [
    {
     "data": {
      "text/plain": [
       "'Thu Apr 16 20:59:37 +0000 2020'"
      ]
     },
     "execution_count": 26,
     "metadata": {},
     "output_type": "execute_result"
    }
   ],
   "source": [
    "test_fetch['statuses'][0]['created_at']"
   ]
  },
  {
   "cell_type": "code",
   "execution_count": 27,
   "metadata": {},
   "outputs": [
    {
     "data": {
      "text/plain": [
       "1250891622264561665"
      ]
     },
     "execution_count": 27,
     "metadata": {},
     "output_type": "execute_result"
    }
   ],
   "source": [
    "test_fetch['statuses'][0]['id']"
   ]
  },
  {
   "cell_type": "markdown",
   "metadata": {},
   "source": [
    "The above two fields are indeed useful - `created_at` could help us identify time-cyclical trends in our data, and `id` gives us a unique identifier for each tweet."
   ]
  },
  {
   "cell_type": "code",
   "execution_count": 29,
   "metadata": {},
   "outputs": [
    {
     "data": {
      "text/plain": [
       "'RT @OuttaHiura: #NBATwitter\\xa0\\xa0 GAIN TIME!\\n\\nIf you are a fan of the #NBA\\xa0\\xa0\\xa0and you follow back:\\n\\n• LIKE THIS TWEET\\n• FOLLOW EVERYONE WHO…'"
      ]
     },
     "execution_count": 29,
     "metadata": {},
     "output_type": "execute_result"
    }
   ],
   "source": [
    "test_fetch['statuses'][0]['full_text']"
   ]
  },
  {
   "cell_type": "markdown",
   "metadata": {},
   "source": [
    "Note that if a retweeted tweet contains more than 140 characters, it gets truncated to 140 characters.  We have to look further into the JSON for the full retweeted tweet text."
   ]
  },
  {
   "cell_type": "code",
   "execution_count": 30,
   "metadata": {},
   "outputs": [
    {
     "data": {
      "text/plain": [
       "'#NBATwitter\\xa0\\xa0 GAIN TIME!\\n\\nIf you are a fan of the #NBA\\xa0\\xa0\\xa0and you follow back:\\n\\n• LIKE THIS TWEET\\n• FOLLOW EVERYONE WHO        LIKES THIS TWEET\\n• RT FOR MORE AUDIENCES\\n• FOLLOW ME @OuttaHiura 🔥\\n• REPLY WITH “IFB” \\n• FOLLOW EVERYBODY WHO DOES \\n\\n#NBAFollowTrains #NBATwitter'"
      ]
     },
     "execution_count": 30,
     "metadata": {},
     "output_type": "execute_result"
    }
   ],
   "source": [
    "test_fetch['statuses'][0]['retweeted_status']['full_text']"
   ]
  },
  {
   "cell_type": "markdown",
   "metadata": {},
   "source": [
    "Let's check `entities` now."
   ]
  },
  {
   "cell_type": "code",
   "execution_count": 31,
   "metadata": {
    "scrolled": true
   },
   "outputs": [
    {
     "data": {
      "text/plain": [
       "{'hashtags': [{'text': 'NBATwitter', 'indices': [16, 27]},\n",
       "  {'text': 'NBA', 'indices': [66, 70]}],\n",
       " 'symbols': [],\n",
       " 'user_mentions': [{'screen_name': 'OuttaHiura',\n",
       "   'name': 'Zacv2',\n",
       "   'id': 1228502629233328129,\n",
       "   'id_str': '1228502629233328129',\n",
       "   'indices': [3, 14]}],\n",
       " 'urls': []}"
      ]
     },
     "execution_count": 31,
     "metadata": {},
     "output_type": "execute_result"
    }
   ],
   "source": [
    "test_fetch['statuses'][0]['entities']"
   ]
  },
  {
   "cell_type": "markdown",
   "metadata": {},
   "source": [
    "From the `entities`, we can get the `hashtags`, `symbols` (not sure what those are?), and `user_mentions`."
   ]
  },
  {
   "cell_type": "code",
   "execution_count": 32,
   "metadata": {},
   "outputs": [
    {
     "data": {
      "text/plain": [
       "{'iso_language_code': 'en', 'result_type': 'recent'}"
      ]
     },
     "execution_count": 32,
     "metadata": {},
     "output_type": "execute_result"
    }
   ],
   "source": [
    "test_fetch['statuses'][0]['metadata']"
   ]
  },
  {
   "cell_type": "markdown",
   "metadata": {},
   "source": [
    "We will not need anything from `metadata`."
   ]
  },
  {
   "cell_type": "code",
   "execution_count": 34,
   "metadata": {
    "scrolled": true
   },
   "outputs": [
    {
     "data": {
      "text/plain": [
       "{'id': 1227095906111180800,\n",
       " 'id_str': '1227095906111180800',\n",
       " 'name': '𝔹𝕒𝕤𝕜𝕖𝕥𝕓𝕒𝕝𝕝 𝕋𝕒𝕝𝕜™ 🚫🦠',\n",
       " 'screen_name': 'LetsTalkBucketz',\n",
       " 'location': '',\n",
       " 'description': '🚨 TALK TO US • SPEAK YOUR MIND • Any and All Things #NBA Basketball 🏀 ▂▃▅▆▇ 📢 #NBATwitter #DUBNation #FearTheDeer #WeGoHard •••• I FOLLOW BACK 💪🏼',\n",
       " 'url': None,\n",
       " 'entities': {'description': {'urls': []}},\n",
       " 'protected': False,\n",
       " 'followers_count': 1082,\n",
       " 'friends_count': 1691,\n",
       " 'listed_count': 0,\n",
       " 'created_at': 'Tue Feb 11 05:04:15 +0000 2020',\n",
       " 'favourites_count': 4545,\n",
       " 'utc_offset': None,\n",
       " 'time_zone': None,\n",
       " 'geo_enabled': False,\n",
       " 'verified': False,\n",
       " 'statuses_count': 4661,\n",
       " 'lang': None,\n",
       " 'contributors_enabled': False,\n",
       " 'is_translator': False,\n",
       " 'is_translation_enabled': False,\n",
       " 'profile_background_color': 'F5F8FA',\n",
       " 'profile_background_image_url': None,\n",
       " 'profile_background_image_url_https': None,\n",
       " 'profile_background_tile': False,\n",
       " 'profile_image_url': 'http://pbs.twimg.com/profile_images/1248099801922666496/kF5LDWhS_normal.jpg',\n",
       " 'profile_image_url_https': 'https://pbs.twimg.com/profile_images/1248099801922666496/kF5LDWhS_normal.jpg',\n",
       " 'profile_banner_url': 'https://pbs.twimg.com/profile_banners/1227095906111180800/1585184502',\n",
       " 'profile_link_color': '1DA1F2',\n",
       " 'profile_sidebar_border_color': 'C0DEED',\n",
       " 'profile_sidebar_fill_color': 'DDEEF6',\n",
       " 'profile_text_color': '333333',\n",
       " 'profile_use_background_image': True,\n",
       " 'has_extended_profile': True,\n",
       " 'default_profile': True,\n",
       " 'default_profile_image': False,\n",
       " 'following': False,\n",
       " 'follow_request_sent': False,\n",
       " 'notifications': False,\n",
       " 'translator_type': 'none'}"
      ]
     },
     "execution_count": 34,
     "metadata": {},
     "output_type": "execute_result"
    }
   ],
   "source": [
    "test_fetch['statuses'][0]['user']"
   ]
  },
  {
   "cell_type": "markdown",
   "metadata": {},
   "source": [
    "There's a lot of information under `user`.  Let's grab the `name`, `followers_count`, and `friends_count` from here.\n",
    "\n",
    "We also saw that the second dictionary key in the returned object from `.GetSearch()` was `search_metadata`.  Let's have a look at what that is."
   ]
  },
  {
   "cell_type": "code",
   "execution_count": 35,
   "metadata": {},
   "outputs": [
    {
     "data": {
      "text/plain": [
       "dict"
      ]
     },
     "execution_count": 35,
     "metadata": {},
     "output_type": "execute_result"
    }
   ],
   "source": [
    "type(test_fetch['search_metadata'])"
   ]
  },
  {
   "cell_type": "code",
   "execution_count": 36,
   "metadata": {},
   "outputs": [
    {
     "data": {
      "text/plain": [
       "{'completed_in': 0.03,\n",
       " 'max_id': 1250891622264561665,\n",
       " 'max_id_str': '1250891622264561665',\n",
       " 'next_results': '?max_id=1250891580246044677&q=%23nba&lang=en&count=2&include_entities=1&result_type=recent',\n",
       " 'query': '%23nba',\n",
       " 'refresh_url': '?since_id=1250891622264561665&q=%23nba&lang=en&result_type=recent&include_entities=1',\n",
       " 'count': 2,\n",
       " 'since_id': 0,\n",
       " 'since_id_str': '0'}"
      ]
     },
     "execution_count": 36,
     "metadata": {},
     "output_type": "execute_result"
    }
   ],
   "source": [
    "test_fetch['search_metadata']"
   ]
  },
  {
   "cell_type": "markdown",
   "metadata": {},
   "source": [
    "It looks like this contains information about the search we carried out.  Because none of this information is specific to a single one of the tweets we retrieved, we won't use anything from here."
   ]
  },
  {
   "cell_type": "markdown",
   "metadata": {},
   "source": [
    "---"
   ]
  },
  {
   "cell_type": "markdown",
   "metadata": {},
   "source": [
    "## **Scraping Tweets**"
   ]
  },
  {
   "cell_type": "markdown",
   "metadata": {},
   "source": [
    "Below is a function that makes a single `.GetSearch()` request to the Twitter API for 100 recent tweets containing \"#NBA\".  The tweets are organized into a pandas DataFrame, which is what the function returns.\n",
    "\n",
    "**Please use your own consumer key, secret consumer key, access token key, and secret access token key to initialize the API instance!**"
   ]
  },
  {
   "cell_type": "code",
   "execution_count": 21,
   "metadata": {},
   "outputs": [],
   "source": [
    "def get_nba_tweets():\n",
    "    '''\n",
    "    Uses the .GetSearch() request method on the python-twitter Api object to gather 100 recent tweets\n",
    "    that contain \"#nba\".  tweets are then formatted into a pandas DataFrame.\n",
    "    \n",
    "    INPUTS\n",
    "    n/a\n",
    "    \n",
    "    OUTPUTS\n",
    "    df: The DataFrame which contains all tweets with basic tweet information.  Each row is a tweet.\n",
    "    '''\n",
    "    \n",
    "    import pandas as pd # for DataFrame\n",
    "    import twitter # to interact with the Twitter API\n",
    "    from datetime import datetime # for timestamps for file names\n",
    "    \n",
    "    # initiate Twitter API instance with authentication\n",
    "    twitter_api = twitter.Api(\n",
    "        consumer_key = '',\n",
    "        consumer_secret = '',\n",
    "        access_token_key = '',\n",
    "        access_token_secret = '',\n",
    "        tweet_mode = 'extended' # ensures we get the full tweet text if it has 140-280 characters\n",
    "    )\n",
    "    \n",
    "    # verify authentication - will raise TwitterError if unsuccessful\n",
    "    twitter_api.VerifyCredentials()\n",
    "        \n",
    "    df = pd.DataFrame() # empty dataframe to append tweet information to\n",
    "\n",
    "    # create search API request \n",
    "    r = twitter_api.GetSearch(\n",
    "        term = '#nba', # search term\n",
    "        lang = 'en', # english language tweets only\n",
    "        result_type = 'recent', # covers more of the general public\n",
    "        include_entities = True, # extra info we may need\n",
    "        return_json = True, # returns full json object with all info\n",
    "        count = 100 # tweets retrieved per request (max 100)\n",
    "    )\n",
    "\n",
    "    # loop through each tweet in the request\n",
    "    for tweet in r['statuses']:\n",
    "        \n",
    "        # retweeted tweets get truncated to 140 characters\n",
    "        # extract the full retweeted status if a tweet is a retweet\n",
    "        try:\n",
    "            tweet_text = tweet['retweeted_status']['full_text']\n",
    "            retweet = 1\n",
    "        except:\n",
    "            tweet_text = tweet['full_text']\n",
    "            retweet = 0\n",
    "\n",
    "        # add tweet information as a row in the dataframe\n",
    "        # note that the columns will automatically be arranged in alphabetical order in the dataframe\n",
    "        df = df.append(\n",
    "            {\n",
    "            'tweet_id': tweet['id'],\n",
    "            'created_at': tweet['created_at'],\n",
    "            'handle': tweet['user']['screen_name'],\n",
    "            'tweet': tweet_text,\n",
    "            'retweet': retweet,\n",
    "            'hashtags': tweet['entities']['hashtags'],\n",
    "            'symbols': tweet['entities']['symbols'],\n",
    "            'user_mentions': tweet['entities']['user_mentions'],\n",
    "            'followers_count': tweet['user']['followers_count'],\n",
    "            'friends_count': tweet['user']['friends_count']\n",
    "            },\n",
    "            ignore_index=True)\n",
    "        \n",
    "    return df"
   ]
  },
  {
   "cell_type": "markdown",
   "metadata": {},
   "source": [
    "Below is a script that makes any specified number of Twitter API `.GetSearch()` requests at any specified frequency - i.e. the above function is used in a loop.  Each single request is saved as a .csv file.  There is a timer in place between requests in order to make the scraping appear more \"human\".  The notebook kernel can be interrupted to stop the collecting of tweets."
   ]
  },
  {
   "cell_type": "code",
   "execution_count": 22,
   "metadata": {
    "scrolled": true
   },
   "outputs": [
    {
     "name": "stdout",
     "output_type": "stream",
     "text": [
      "15:30:11 - Request 1 successfully made & saved at data/api_request_full_rt_20200329-153011.csv.\n",
      "892 seconds remaining...   \r"
     ]
    },
    {
     "ename": "KeyboardInterrupt",
     "evalue": "",
     "output_type": "error",
     "traceback": [
      "\u001b[1;31m---------------------------------------------------------------------------\u001b[0m",
      "\u001b[1;31mKeyboardInterrupt\u001b[0m                         Traceback (most recent call last)",
      "\u001b[1;32m<ipython-input-22-5717dc99a71b>\u001b[0m in \u001b[0;36m<module>\u001b[1;34m\u001b[0m\n\u001b[0;32m     36\u001b[0m             \u001b[0mprint\u001b[0m\u001b[1;33m(\u001b[0m\u001b[1;34mf'{countdown_seconds} seconds remaining...   '\u001b[0m\u001b[1;33m,\u001b[0m \u001b[0mend\u001b[0m\u001b[1;33m=\u001b[0m\u001b[1;34m'\\r'\u001b[0m\u001b[1;33m)\u001b[0m\u001b[1;33m\u001b[0m\u001b[1;33m\u001b[0m\u001b[0m\n\u001b[0;32m     37\u001b[0m             \u001b[0mcountdown_seconds\u001b[0m \u001b[1;33m-=\u001b[0m \u001b[1;36m1\u001b[0m\u001b[1;33m\u001b[0m\u001b[1;33m\u001b[0m\u001b[0m\n\u001b[1;32m---> 38\u001b[1;33m             \u001b[0msleep\u001b[0m\u001b[1;33m(\u001b[0m\u001b[1;36m1\u001b[0m\u001b[1;33m)\u001b[0m\u001b[1;33m\u001b[0m\u001b[1;33m\u001b[0m\u001b[0m\n\u001b[0m\u001b[0;32m     39\u001b[0m \u001b[1;33m\u001b[0m\u001b[0m\n\u001b[0;32m     40\u001b[0m \u001b[1;31m# can interrupt kernel to stop query\u001b[0m\u001b[1;33m\u001b[0m\u001b[1;33m\u001b[0m\u001b[1;33m\u001b[0m\u001b[0m\n",
      "\u001b[1;31mKeyboardInterrupt\u001b[0m: "
     ]
    }
   ],
   "source": [
    "# uncomment to use additional timer in between most recent API call and next API call\n",
    "# sleep(300)\n",
    "\n",
    "# number of requests to make, and how many minutes to wait in between each request\n",
    "n_requests = 100\n",
    "wait_time_bw_requests_mins = 15\n",
    "\n",
    "# *** the total runtime wil be (n_requests - 1) * wait_time_bw_requests_mins ***\n",
    "\n",
    "for n in range(1, n_requests+1):\n",
    "    \n",
    "    # use custom made function to return 100 recent tweets containing \"#nba\" as a dataframe\n",
    "    request_df = get_nba_tweets()\n",
    "    \n",
    "    # note that the authentication is verified every single time the above line is run\n",
    "    # this is a kind of code inefficiency that should be addressed later\n",
    "    # however, the code works perfectly fine\n",
    "    \n",
    "    # create unique file name for the request using a datetime code\n",
    "    datetime_string = datetime.now().strftime('%Y%m%d-%H%M%S')\n",
    "    file_name = f'data/api_request_full_rt_{datetime_string}.csv'\n",
    "\n",
    "    # write this df to a csv\n",
    "    request_df.to_csv(file_name, index=False)\n",
    "\n",
    "    # print a message to confirm a successful request\n",
    "    print(f'{datetime.now().strftime(\"%H:%M:%S\")} - Request {n} successfully made & saved at {file_name}.') \n",
    "    \n",
    "    # wait timer between requests, with print statement\n",
    "    if n < n_requests: # ensures that we don't wait after the last request is completed\n",
    "        \n",
    "        countdown_seconds = wait_time_bw_requests_mins*60\n",
    "        \n",
    "        # countdown message\n",
    "        while countdown_seconds > 0:\n",
    "            print(f'{countdown_seconds} seconds remaining...   ', end='\\r')\n",
    "            countdown_seconds -= 1\n",
    "            sleep(1)\n",
    "          \n",
    "# can interrupt kernel to stop query"
   ]
  },
  {
   "cell_type": "markdown",
   "metadata": {},
   "source": [
    "Finally, below is a script to create a master dataframe by appending all of the individual API request dataframes.  The master dataframe is then saved as a .csv file."
   ]
  },
  {
   "cell_type": "code",
   "execution_count": 23,
   "metadata": {},
   "outputs": [
    {
     "name": "stdout",
     "output_type": "stream",
     "text": [
      "1 Twitter API requests combined.\n",
      "100 total tweets collected.\n"
     ]
    }
   ],
   "source": [
    "# list of all API request .csv files in working directory\n",
    "files = glob.glob('data/api_request_full_rt_*.csv')\n",
    "\n",
    " # initiate master dataframe (first .csv)\n",
    "master = pd.read_csv(files[0])\n",
    "\n",
    "# loop through all .csv's (starting from the second one)\n",
    "for file in files[1:]:\n",
    "    master = master.append(pd.read_csv(file)) # append each .csv to the master\n",
    "\n",
    "# counts\n",
    "print(f'{len(files)} Twitter API requests combined.') # files combined\n",
    "print(f'{len(master)} total tweets collected.') # total tweets\n",
    "\n",
    "# write to csv\n",
    "master.to_csv('data/master_test.csv', index=False)"
   ]
  }
 ],
 "metadata": {
  "kernelspec": {
   "display_name": "Python 3",
   "language": "python",
   "name": "python3"
  },
  "language_info": {
   "codemirror_mode": {
    "name": "ipython",
    "version": 3
   },
   "file_extension": ".py",
   "mimetype": "text/x-python",
   "name": "python",
   "nbconvert_exporter": "python",
   "pygments_lexer": "ipython3",
   "version": "3.7.4"
  }
 },
 "nbformat": 4,
 "nbformat_minor": 4
}

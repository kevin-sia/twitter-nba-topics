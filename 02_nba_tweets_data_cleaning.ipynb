{
 "cells": [
  {
   "cell_type": "markdown",
   "metadata": {},
   "source": [
    "# **Exploring Topic Clusters in the #NBA Twittersphere**"
   ]
  },
  {
   "cell_type": "markdown",
   "metadata": {},
   "source": [
    "# **Data Cleaning**"
   ]
  },
  {
   "cell_type": "markdown",
   "metadata": {},
   "source": [
    "The current scope of this project is to use an unsupervised machine learning model(s) to find possible clusters/patterns in NBA-related tweets.  All tweets contain the search term \"#NBA\".  At the very least, our final features dataset would comprise of just the vectorized text data.  Other future analysis might include looking at the hashtags, followers/friends counts, or time-based patterns.\n",
    "\n",
    "In this notebook we will clean the master dataframe that we created in the previous notebook.\n",
    "\n",
    "Some notes:\n",
    "\n",
    "- **Results of any analysis will depend strongly on the timeframe of the data**\n",
    "    - Would be useful to include the chronological first & last tweets in our dataset, any gaps missing, and indicate if there were any special NBA events that occurred within timeframe (trades, high-profile signings, flashy plays/highlights, etc.)\n",
    "    - **On March 11, 2020, it was announced that the NBA would be suspended indefinitely due to one of its players testing positive for coronavirus COVID-19.  This makes for a rather rare opportunity to analyze a significant event in our dataset!**\n",
    "    - Note that Daylight Savings Time in Canada occurred on March 8, 2020"
   ]
  },
  {
   "cell_type": "markdown",
   "metadata": {},
   "source": [
    "Let's begin by importing some Python packages that we will need."
   ]
  },
  {
   "cell_type": "code",
   "execution_count": 1,
   "metadata": {},
   "outputs": [],
   "source": [
    "# the data science triple team\n",
    "import numpy as np\n",
    "import pandas as pd\n",
    "import matplotlib.pyplot as plt\n",
    "\n",
    "%matplotlib inline"
   ]
  },
  {
   "cell_type": "code",
   "execution_count": 2,
   "metadata": {},
   "outputs": [
    {
     "data": {
      "text/html": [
       "<div>\n",
       "<style scoped>\n",
       "    .dataframe tbody tr th:only-of-type {\n",
       "        vertical-align: middle;\n",
       "    }\n",
       "\n",
       "    .dataframe tbody tr th {\n",
       "        vertical-align: top;\n",
       "    }\n",
       "\n",
       "    .dataframe thead th {\n",
       "        text-align: right;\n",
       "    }\n",
       "</style>\n",
       "<table border=\"1\" class=\"dataframe\">\n",
       "  <thead>\n",
       "    <tr style=\"text-align: right;\">\n",
       "      <th></th>\n",
       "      <th>created_at</th>\n",
       "      <th>followers_count</th>\n",
       "      <th>friends_count</th>\n",
       "      <th>handle</th>\n",
       "      <th>hashtags</th>\n",
       "      <th>retweet</th>\n",
       "      <th>symbols</th>\n",
       "      <th>tweet</th>\n",
       "      <th>tweet_id</th>\n",
       "      <th>user_mentions</th>\n",
       "    </tr>\n",
       "  </thead>\n",
       "  <tbody>\n",
       "    <tr>\n",
       "      <td>0</td>\n",
       "      <td>Tue Mar 10 14:23:25 +0000 2020</td>\n",
       "      <td>383.0</td>\n",
       "      <td>328.0</td>\n",
       "      <td>ClubInplay</td>\n",
       "      <td>[{'text': 'inplay', 'indices': [36, 43]}, {'te...</td>\n",
       "      <td>0.0</td>\n",
       "      <td>[]</td>\n",
       "      <td>GOOOOAAAALLL⚽⚽⚽\\nMbeya City 1️⃣-0️⃣\\n\\n#inplay...</td>\n",
       "      <td>1.237384e+18</td>\n",
       "      <td>[]</td>\n",
       "    </tr>\n",
       "    <tr>\n",
       "      <td>1</td>\n",
       "      <td>Tue Mar 10 14:23:20 +0000 2020</td>\n",
       "      <td>73.0</td>\n",
       "      <td>270.0</td>\n",
       "      <td>Bobbo1979</td>\n",
       "      <td>[{'text': 'excited', 'indices': [161, 169]}, {...</td>\n",
       "      <td>0.0</td>\n",
       "      <td>[]</td>\n",
       "      <td>Drove in 4 different states yesterday to go to...</td>\n",
       "      <td>1.237384e+18</td>\n",
       "      <td>[{'screen_name': 'JaMorant', 'name': 'Ja Moran...</td>\n",
       "    </tr>\n",
       "    <tr>\n",
       "      <td>2</td>\n",
       "      <td>Tue Mar 10 14:23:00 +0000 2020</td>\n",
       "      <td>4533.0</td>\n",
       "      <td>42.0</td>\n",
       "      <td>thebigmoves</td>\n",
       "      <td>[{'text': 'MADNESS', 'indices': [15, 23]}, {'t...</td>\n",
       "      <td>0.0</td>\n",
       "      <td>[]</td>\n",
       "      <td>GOING INTO the #MADNESS on FIRE\\n#BMC = \"4-1\" ...</td>\n",
       "      <td>1.237383e+18</td>\n",
       "      <td>[]</td>\n",
       "    </tr>\n",
       "    <tr>\n",
       "      <td>3</td>\n",
       "      <td>Tue Mar 10 14:22:39 +0000 2020</td>\n",
       "      <td>1406.0</td>\n",
       "      <td>2468.0</td>\n",
       "      <td>LetsPickandWin</td>\n",
       "      <td>[{'text': 'vinmo', 'indices': [79, 85]}, {'tex...</td>\n",
       "      <td>1.0</td>\n",
       "      <td>[]</td>\n",
       "      <td>I’ll take your bets no matter where you live.\\...</td>\n",
       "      <td>1.237383e+18</td>\n",
       "      <td>[{'screen_name': 'FatCobra6', 'name': 'hi_i_su...</td>\n",
       "    </tr>\n",
       "    <tr>\n",
       "      <td>4</td>\n",
       "      <td>Tue Mar 10 14:22:37 +0000 2020</td>\n",
       "      <td>1406.0</td>\n",
       "      <td>2468.0</td>\n",
       "      <td>LetsPickandWin</td>\n",
       "      <td>[]</td>\n",
       "      <td>1.0</td>\n",
       "      <td>[]</td>\n",
       "      <td>Junior is our trustworthy bookie!\\n\\nhttps://t...</td>\n",
       "      <td>1.237383e+18</td>\n",
       "      <td>[{'screen_name': 'FatCobra6', 'name': 'hi_i_su...</td>\n",
       "    </tr>\n",
       "    <tr>\n",
       "      <td>...</td>\n",
       "      <td>...</td>\n",
       "      <td>...</td>\n",
       "      <td>...</td>\n",
       "      <td>...</td>\n",
       "      <td>...</td>\n",
       "      <td>...</td>\n",
       "      <td>...</td>\n",
       "      <td>...</td>\n",
       "      <td>...</td>\n",
       "      <td>...</td>\n",
       "    </tr>\n",
       "    <tr>\n",
       "      <td>46909</td>\n",
       "      <td>Tue Mar 17 11:25:04 +0000 2020</td>\n",
       "      <td>4040.0</td>\n",
       "      <td>4272.0</td>\n",
       "      <td>NBATalkLine</td>\n",
       "      <td>[{'text': 'NBA', 'indices': [172, 176]}, {'tex...</td>\n",
       "      <td>0.0</td>\n",
       "      <td>[]</td>\n",
       "      <td>Giannis Antetokounmpo BLOCKS LeBron James - 20...</td>\n",
       "      <td>1.239875e+18</td>\n",
       "      <td>[]</td>\n",
       "    </tr>\n",
       "    <tr>\n",
       "      <td>46910</td>\n",
       "      <td>Tue Mar 17 11:24:38 +0000 2020</td>\n",
       "      <td>566.0</td>\n",
       "      <td>284.0</td>\n",
       "      <td>iamshanewalters</td>\n",
       "      <td>[{'text': 'shaqandkobe', 'indices': [71, 83]},...</td>\n",
       "      <td>0.0</td>\n",
       "      <td>[]</td>\n",
       "      <td>Duo? Nah. They were two unbelievably amazing p...</td>\n",
       "      <td>1.239875e+18</td>\n",
       "      <td>[]</td>\n",
       "    </tr>\n",
       "    <tr>\n",
       "      <td>46911</td>\n",
       "      <td>Tue Mar 17 11:24:17 +0000 2020</td>\n",
       "      <td>250.0</td>\n",
       "      <td>371.0</td>\n",
       "      <td>PrimeZues</td>\n",
       "      <td>[{'text': 'NBA', 'indices': [120, 124]}]</td>\n",
       "      <td>0.0</td>\n",
       "      <td>[]</td>\n",
       "      <td>The Trae Young Challenge has started calling f...</td>\n",
       "      <td>1.239875e+18</td>\n",
       "      <td>[{'screen_name': 'KDTrey5', 'name': 'Kevin Dur...</td>\n",
       "    </tr>\n",
       "    <tr>\n",
       "      <td>46912</td>\n",
       "      <td>Tue Mar 17 11:23:39 +0000 2020</td>\n",
       "      <td>198.0</td>\n",
       "      <td>486.0</td>\n",
       "      <td>CoachRossLRHS</td>\n",
       "      <td>[{'text': 'nba', 'indices': [34, 38]}, {'text'...</td>\n",
       "      <td>0.0</td>\n",
       "      <td>[]</td>\n",
       "      <td>How I am going to get charged for #nba league ...</td>\n",
       "      <td>1.239875e+18</td>\n",
       "      <td>[{'screen_name': 'NBA', 'name': 'NBA', 'id': 1...</td>\n",
       "    </tr>\n",
       "    <tr>\n",
       "      <td>46913</td>\n",
       "      <td>Tue Mar 17 11:22:25 +0000 2020</td>\n",
       "      <td>36.0</td>\n",
       "      <td>202.0</td>\n",
       "      <td>4thknockdown</td>\n",
       "      <td>[{'text': 'NBA', 'indices': [108, 112]}, {'tex...</td>\n",
       "      <td>0.0</td>\n",
       "      <td>[]</td>\n",
       "      <td>This morning's sports documentary: Pooh: The D...</td>\n",
       "      <td>1.239875e+18</td>\n",
       "      <td>[]</td>\n",
       "    </tr>\n",
       "  </tbody>\n",
       "</table>\n",
       "<p>46914 rows × 10 columns</p>\n",
       "</div>"
      ],
      "text/plain": [
       "                           created_at  followers_count  friends_count  \\\n",
       "0      Tue Mar 10 14:23:25 +0000 2020            383.0          328.0   \n",
       "1      Tue Mar 10 14:23:20 +0000 2020             73.0          270.0   \n",
       "2      Tue Mar 10 14:23:00 +0000 2020           4533.0           42.0   \n",
       "3      Tue Mar 10 14:22:39 +0000 2020           1406.0         2468.0   \n",
       "4      Tue Mar 10 14:22:37 +0000 2020           1406.0         2468.0   \n",
       "...                               ...              ...            ...   \n",
       "46909  Tue Mar 17 11:25:04 +0000 2020           4040.0         4272.0   \n",
       "46910  Tue Mar 17 11:24:38 +0000 2020            566.0          284.0   \n",
       "46911  Tue Mar 17 11:24:17 +0000 2020            250.0          371.0   \n",
       "46912  Tue Mar 17 11:23:39 +0000 2020            198.0          486.0   \n",
       "46913  Tue Mar 17 11:22:25 +0000 2020             36.0          202.0   \n",
       "\n",
       "                handle                                           hashtags  \\\n",
       "0           ClubInplay  [{'text': 'inplay', 'indices': [36, 43]}, {'te...   \n",
       "1            Bobbo1979  [{'text': 'excited', 'indices': [161, 169]}, {...   \n",
       "2          thebigmoves  [{'text': 'MADNESS', 'indices': [15, 23]}, {'t...   \n",
       "3       LetsPickandWin  [{'text': 'vinmo', 'indices': [79, 85]}, {'tex...   \n",
       "4       LetsPickandWin                                                 []   \n",
       "...                ...                                                ...   \n",
       "46909      NBATalkLine  [{'text': 'NBA', 'indices': [172, 176]}, {'tex...   \n",
       "46910  iamshanewalters  [{'text': 'shaqandkobe', 'indices': [71, 83]},...   \n",
       "46911        PrimeZues           [{'text': 'NBA', 'indices': [120, 124]}]   \n",
       "46912    CoachRossLRHS  [{'text': 'nba', 'indices': [34, 38]}, {'text'...   \n",
       "46913     4thknockdown  [{'text': 'NBA', 'indices': [108, 112]}, {'tex...   \n",
       "\n",
       "       retweet symbols                                              tweet  \\\n",
       "0          0.0      []  GOOOOAAAALLL⚽⚽⚽\\nMbeya City 1️⃣-0️⃣\\n\\n#inplay...   \n",
       "1          0.0      []  Drove in 4 different states yesterday to go to...   \n",
       "2          0.0      []  GOING INTO the #MADNESS on FIRE\\n#BMC = \"4-1\" ...   \n",
       "3          1.0      []  I’ll take your bets no matter where you live.\\...   \n",
       "4          1.0      []  Junior is our trustworthy bookie!\\n\\nhttps://t...   \n",
       "...        ...     ...                                                ...   \n",
       "46909      0.0      []  Giannis Antetokounmpo BLOCKS LeBron James - 20...   \n",
       "46910      0.0      []  Duo? Nah. They were two unbelievably amazing p...   \n",
       "46911      0.0      []  The Trae Young Challenge has started calling f...   \n",
       "46912      0.0      []  How I am going to get charged for #nba league ...   \n",
       "46913      0.0      []  This morning's sports documentary: Pooh: The D...   \n",
       "\n",
       "           tweet_id                                      user_mentions  \n",
       "0      1.237384e+18                                                 []  \n",
       "1      1.237384e+18  [{'screen_name': 'JaMorant', 'name': 'Ja Moran...  \n",
       "2      1.237383e+18                                                 []  \n",
       "3      1.237383e+18  [{'screen_name': 'FatCobra6', 'name': 'hi_i_su...  \n",
       "4      1.237383e+18  [{'screen_name': 'FatCobra6', 'name': 'hi_i_su...  \n",
       "...             ...                                                ...  \n",
       "46909  1.239875e+18                                                 []  \n",
       "46910  1.239875e+18                                                 []  \n",
       "46911  1.239875e+18  [{'screen_name': 'KDTrey5', 'name': 'Kevin Dur...  \n",
       "46912  1.239875e+18  [{'screen_name': 'NBA', 'name': 'NBA', 'id': 1...  \n",
       "46913  1.239875e+18                                                 []  \n",
       "\n",
       "[46914 rows x 10 columns]"
      ]
     },
     "execution_count": 2,
     "metadata": {},
     "output_type": "execute_result"
    }
   ],
   "source": [
    "# read in the scraped tweets\n",
    "df = pd.read_csv('data/master.csv')\n",
    "df"
   ]
  },
  {
   "cell_type": "code",
   "execution_count": 3,
   "metadata": {},
   "outputs": [
    {
     "name": "stdout",
     "output_type": "stream",
     "text": [
      "There are 46914 rows and 10 columns in this dataset.\n"
     ]
    }
   ],
   "source": [
    "# check number of rows and columns in the dataset\n",
    "print(f'There are {df.shape[0]} rows and {df.shape[1]} columns in this dataset.')"
   ]
  },
  {
   "cell_type": "code",
   "execution_count": 4,
   "metadata": {},
   "outputs": [
    {
     "name": "stdout",
     "output_type": "stream",
     "text": [
      "<class 'pandas.core.frame.DataFrame'>\n",
      "RangeIndex: 46914 entries, 0 to 46913\n",
      "Data columns (total 10 columns):\n",
      "created_at         46914 non-null object\n",
      "followers_count    46914 non-null float64\n",
      "friends_count      46914 non-null float64\n",
      "handle             46914 non-null object\n",
      "hashtags           46914 non-null object\n",
      "retweet            46914 non-null float64\n",
      "symbols            46914 non-null object\n",
      "tweet              46914 non-null object\n",
      "tweet_id           46914 non-null float64\n",
      "user_mentions      46914 non-null object\n",
      "dtypes: float64(4), object(6)\n",
      "memory usage: 3.6+ MB\n"
     ]
    }
   ],
   "source": [
    "df.info()"
   ]
  },
  {
   "cell_type": "markdown",
   "metadata": {},
   "source": [
    "## **Data Dictionary**"
   ]
  },
  {
   "cell_type": "markdown",
   "metadata": {},
   "source": [
    "Each row in this dataset is a tweet or a retweet.  The columns are as follows:\n",
    "\n",
    "* `created_at`: timestamp of when the tweet was posted\n",
    "* `followers_count`: the user's number of followers at the time the user's tweet was posted\n",
    "* `friends_count`: the user's number of people they were following at the time the user's tweet was posted\n",
    "* `handle`: the handle (username) of the user\n",
    "* `hashtags`: a Python list of dictionaries, where each dictionary contains a hashtag in the tweet and the string indices in the tweet where that hashtag is located\n",
    "* `retweet`: a binary column where the value is 1 if the tweet is a retweet, and 0 if not\n",
    "* `symbols`: a Python list of Twitter symbols contained in the tweet\n",
    "* `tweet`: the text of the tweet\n",
    "* `tweet_id`: the ID number of the tweet\n",
    "    * For retweets, this ID is the ID of the _retweet_ and not of the tweet that is being retweeted!\n",
    "* `user_mentions`: a Python list of dictionaries, where each dictionary contains: the handle of a mentioned user, their Twitter display name, their profile ID as both a number and a string, and the string indices in the tweet where that user is mentioned\n"
   ]
  },
  {
   "cell_type": "markdown",
   "metadata": {},
   "source": [
    "## **Data Cleaning/EDA**"
   ]
  },
  {
   "cell_type": "markdown",
   "metadata": {},
   "source": [
    "Clean-up/EDA work we might need to do:\n",
    "\n",
    "- check for missing values\n",
    "- check for duplicate rows\n",
    "- `created_at`: convert to numeric type (day of the week, day of the year, time of day, etc.)\n",
    "    - Could look at cyclical trends?\n",
    "- `followers_count` and `friends_count`: convert to integer type since these can never be fractional\n",
    "- `hashtags`: extract just the hashtag names\n",
    "- `retweet`: convert from float to integer type\n",
    "- `symbols`: inspect\n",
    "- `tweet_id`: convert to a numeric type that will display all digits\n",
    "- `user_mentions`: extract just the handles\n",
    "\n",
    "We will go through most of these clean-up/EDA steps, but ultimately the scope of this project is to discover possible clusters within *just* the text data."
   ]
  },
  {
   "cell_type": "markdown",
   "metadata": {},
   "source": [
    "### Missing values"
   ]
  },
  {
   "cell_type": "code",
   "execution_count": 5,
   "metadata": {
    "scrolled": true
   },
   "outputs": [
    {
     "data": {
      "text/plain": [
       "created_at         0\n",
       "followers_count    0\n",
       "friends_count      0\n",
       "handle             0\n",
       "hashtags           0\n",
       "retweet            0\n",
       "symbols            0\n",
       "tweet              0\n",
       "tweet_id           0\n",
       "user_mentions      0\n",
       "dtype: int64"
      ]
     },
     "execution_count": 5,
     "metadata": {},
     "output_type": "execute_result"
    }
   ],
   "source": [
    "df.isna().sum()"
   ]
  },
  {
   "cell_type": "markdown",
   "metadata": {},
   "source": [
    "There are no missing values in the dataset!"
   ]
  },
  {
   "cell_type": "markdown",
   "metadata": {},
   "source": [
    "### Duplicate rows"
   ]
  },
  {
   "cell_type": "code",
   "execution_count": 6,
   "metadata": {},
   "outputs": [
    {
     "name": "stdout",
     "output_type": "stream",
     "text": [
      "There are 15927 duplicated rows in the dataset.\n"
     ]
    }
   ],
   "source": [
    "print(f'There are {df.duplicated().sum()} duplicated rows in the dataset.')"
   ]
  },
  {
   "cell_type": "markdown",
   "metadata": {},
   "source": [
    "Let's drop these duplicated rows."
   ]
  },
  {
   "cell_type": "code",
   "execution_count": 7,
   "metadata": {},
   "outputs": [],
   "source": [
    "# remove duplicate rows\n",
    "df.drop_duplicates(inplace=True)"
   ]
  },
  {
   "cell_type": "code",
   "execution_count": 8,
   "metadata": {},
   "outputs": [
    {
     "data": {
      "text/plain": [
       "(30987, 10)"
      ]
     },
     "execution_count": 8,
     "metadata": {},
     "output_type": "execute_result"
    }
   ],
   "source": [
    "# shape check\n",
    "df.shape"
   ]
  },
  {
   "cell_type": "markdown",
   "metadata": {},
   "source": [
    "### created_at\n",
    "\n",
    "convert to datetime format, retrieve desired constituents"
   ]
  },
  {
   "cell_type": "code",
   "execution_count": 9,
   "metadata": {},
   "outputs": [],
   "source": [
    "# convert column to datetime then extract piecewise information:\n",
    "# day of week, day of year, time of day, etc\n",
    "\n",
    "df['created_at'] = pd.to_datetime(df['created_at']) # convert to datetime\n",
    "df['created_at'] = [x.tz_convert('EST') for x in df['created_at']] # convert to eastern time"
   ]
  },
  {
   "cell_type": "code",
   "execution_count": 10,
   "metadata": {},
   "outputs": [
    {
     "data": {
      "text/plain": [
       "Timestamp('2020-03-10 09:23:25-0500', tz='EST')"
      ]
     },
     "execution_count": 10,
     "metadata": {},
     "output_type": "execute_result"
    }
   ],
   "source": [
    "# verify\n",
    "df['created_at'][0]"
   ]
  },
  {
   "cell_type": "code",
   "execution_count": 11,
   "metadata": {},
   "outputs": [
    {
     "data": {
      "text/plain": [
       "99      2020-03-10 09:00:01-05:00\n",
       "98      2020-03-10 09:00:11-05:00\n",
       "97      2020-03-10 09:00:28-05:00\n",
       "96      2020-03-10 09:00:29-05:00\n",
       "95      2020-03-10 09:00:32-05:00\n",
       "                   ...           \n",
       "46818   2020-03-17 07:36:50-05:00\n",
       "46817   2020-03-17 07:37:32-05:00\n",
       "46816   2020-03-17 07:37:34-05:00\n",
       "46815   2020-03-17 07:37:48-05:00\n",
       "46814   2020-03-17 07:37:51-05:00\n",
       "Name: created_at, Length: 30987, dtype: datetime64[ns, EST]"
      ]
     },
     "execution_count": 11,
     "metadata": {},
     "output_type": "execute_result"
    }
   ],
   "source": [
    "# date range of tweets in dataset\n",
    "df['created_at'].sort_values()"
   ]
  },
  {
   "cell_type": "markdown",
   "metadata": {},
   "source": [
    "Note that Daylight Savings Time began on March 8.  Thus, the tweets in this dataset were posted between Tuesday March 10 2020 10:00:01 - Tuesday March 17 2020 08:37:51 Eastern **Daylight** Time.  **Again, note that the NBA announced its indefinite suspension on the evening (EDT) of March 11, i.e. within this dataset, so the majority of our dataset could be tweets about coronavirus**.\n",
    "\n",
    "Let's sort our data by chronological order:"
   ]
  },
  {
   "cell_type": "code",
   "execution_count": 12,
   "metadata": {},
   "outputs": [],
   "source": [
    "# chronological sort\n",
    "df = df.sort_values('created_at')\n",
    "\n",
    "# reset index\n",
    "df.reset_index(drop=True, inplace=True)"
   ]
  },
  {
   "cell_type": "code",
   "execution_count": 13,
   "metadata": {},
   "outputs": [],
   "source": [
    "# extracting datetime components from the created_at column & adding each as a column to the dataset\n",
    "\n",
    "# yyyy-mm-dd date format\n",
    "created_at_date = list()\n",
    "for date in df['created_at']:\n",
    "    if date.month in [10, 11, 12]:\n",
    "        created_at_date.append(str(date.year) + '-' + str(date.month) + '-' + str(date.day))\n",
    "    else:\n",
    "        created_at_date.append(str(date.year) + '-' + '0' + str(date.month) + '-' + str(date.day))\n",
    "\n",
    "df['created_at_date'] = created_at_date\n",
    "df['created_at_hour'] = [x.hour for x in df['created_at']] # hour of day\n",
    "df['created_at_dayofweek'] = [x.dayofweek for x in df['created_at']] # day of week\n",
    "df['created_at_dayofyear'] = [x.dayofyear for x in df['created_at']] # day of year"
   ]
  },
  {
   "cell_type": "code",
   "execution_count": 14,
   "metadata": {},
   "outputs": [
    {
     "data": {
      "image/png": "[encoded data removed]",
      "text/plain": [
       "<Figure size 576x360 with 1 Axes>"
      ]
     },
     "metadata": {
      "needs_background": "light"
     },
     "output_type": "display_data"
    }
   ],
   "source": [
    "# plot the number of tweets in the dataset by date\n",
    "plt.figure(figsize=(8,5))\n",
    "plt.bar(df['created_at_date'].value_counts().sort_index().index, df['created_at_date'].value_counts().sort_index().values)\n",
    "plt.title('Number of tweets in dataset by date')\n",
    "plt.xlabel('Date')\n",
    "plt.xticks(rotation=70)\n",
    "plt.ylabel('Number of tweets')\n",
    "# plt.tight_layout()\n",
    "# plt.savefig('num_tweets_by_date.png')\n",
    "plt.show()"
   ]
  },
  {
   "cell_type": "markdown",
   "metadata": {},
   "source": [
    "Again, I want to note that the method used to retrieve tweets for this dataset does not guarantee that every single possible tweet is returned.  Also, I was unable to continuously scrape tweets - I could only do so whenever I had an internet connection.  Thus, the tweets in the dataset are likely not representative of every single tweet posted within March 10-17.\n",
    "\n",
    "However, there is one clear trend in the above graph - there were a significant amount of tweets posted following the announcement of the suspension of the NBA on March 11."
   ]
  },
  {
   "cell_type": "code",
   "execution_count": 15,
   "metadata": {},
   "outputs": [
    {
     "data": {
      "image/png": "[encoded data removed]",
      "text/plain": [
       "<Figure size 432x288 with 1 Axes>"
      ]
     },
     "metadata": {
      "needs_background": "light"
     },
     "output_type": "display_data"
    }
   ],
   "source": [
    "# plot the tweet frequency by the hour of day\n",
    "\n",
    "hours = list(df['created_at_hour'].value_counts().index) # hours in the day\n",
    "tweet_counts_by_hour = df['created_at_hour'].value_counts().values\n",
    "\n",
    "# convert the hours from standard time to daylight time (i.e. adding 1 hour)\n",
    "for i in range(len(hours)):\n",
    "    if hours[i] == 23: # crossing the midnight mark\n",
    "        hours[i] = 0\n",
    "    else:\n",
    "        hours[i] = hours[i] + 1\n",
    "\n",
    "plt.figure()\n",
    "plt.bar(hours, tweet_counts_by_hour)\n",
    "plt.title('tweet frequency by hour of day')\n",
    "plt.xlabel('Hour of day')\n",
    "plt.xticks([0, 3, 6, 9, 12, 15, 18, 21])\n",
    "plt.ylabel('Frequency')\n",
    "plt.show()"
   ]
  },
  {
   "cell_type": "markdown",
   "metadata": {},
   "source": [
    "Most tweets get posted from noontime to 3pm, and there is also a moderate spike in tweets from 10pm-1am.  I presume that by pure chance in scraping tweets, our dataset has very few tweets that were sent out in between 8-9am."
   ]
  },
  {
   "cell_type": "markdown",
   "metadata": {},
   "source": [
    "### followers_count\n",
    "\n",
    "convert to `int`"
   ]
  },
  {
   "cell_type": "code",
   "execution_count": 16,
   "metadata": {},
   "outputs": [],
   "source": [
    "# conversion to integer\n",
    "df['followers_count'] = df['followers_count'].astype(int)"
   ]
  },
  {
   "cell_type": "markdown",
   "metadata": {},
   "source": [
    "Let's look into which accounts have the most followers.  For accounts that have multiple tweets in our dataset, each row may have a different number or followers (or even friends).  This is because the count is taken at the time the tweet is sent out - accounts may lose or gain followers in between tweets.\n",
    "\n",
    "Let's find the account that has the most tweets in our dataset and see the different `followers_count` from each of their tweets:"
   ]
  },
  {
   "cell_type": "code",
   "execution_count": 17,
   "metadata": {},
   "outputs": [
    {
     "data": {
      "text/plain": [
       "array([331, 332, 333, 334, 335, 336, 337, 343, 344, 345, 346, 347, 349,\n",
       "       350, 351, 358, 360, 359, 357, 361, 363, 365, 368, 366, 367, 369,\n",
       "       371, 372, 374, 375, 377, 378, 386, 387, 388, 389, 401, 400, 398,\n",
       "       399], dtype=int64)"
      ]
     },
     "execution_count": 17,
     "metadata": {},
     "output_type": "execute_result"
    }
   ],
   "source": [
    "# follower count at the time of each tweet for most frequently-occurring account\n",
    "df['followers_count'][df['handle'] == df['handle'].value_counts().idxmax()].unique()"
   ]
  },
  {
   "cell_type": "markdown",
   "metadata": {},
   "source": [
    "The point here is that we can't use `followers_count` by itself to show how many followers an account has, since it can vary from tweet to tweet.  For accounts with more than one tweet in the dataset, I will opt to show their *mean* `followers_count`."
   ]
  },
  {
   "cell_type": "code",
   "execution_count": 18,
   "metadata": {},
   "outputs": [
    {
     "data": {
      "text/html": [
       "<div>\n",
       "<style scoped>\n",
       "    .dataframe tbody tr th:only-of-type {\n",
       "        vertical-align: middle;\n",
       "    }\n",
       "\n",
       "    .dataframe tbody tr th {\n",
       "        vertical-align: top;\n",
       "    }\n",
       "\n",
       "    .dataframe thead th {\n",
       "        text-align: right;\n",
       "    }\n",
       "</style>\n",
       "<table border=\"1\" class=\"dataframe\">\n",
       "  <thead>\n",
       "    <tr style=\"text-align: right;\">\n",
       "      <th></th>\n",
       "      <th>followers_count</th>\n",
       "    </tr>\n",
       "    <tr>\n",
       "      <th>handle</th>\n",
       "      <th></th>\n",
       "    </tr>\n",
       "  </thead>\n",
       "  <tbody>\n",
       "    <tr>\n",
       "      <td>timesofindia</td>\n",
       "      <td>1.238144e+07</td>\n",
       "    </tr>\n",
       "    <tr>\n",
       "      <td>ndtv</td>\n",
       "      <td>1.220791e+07</td>\n",
       "    </tr>\n",
       "    <tr>\n",
       "      <td>enews</td>\n",
       "      <td>1.177293e+07</td>\n",
       "    </tr>\n",
       "    <tr>\n",
       "      <td>the_hindu</td>\n",
       "      <td>5.798407e+06</td>\n",
       "    </tr>\n",
       "    <tr>\n",
       "      <td>IndiaToday</td>\n",
       "      <td>5.278351e+06</td>\n",
       "    </tr>\n",
       "    <tr>\n",
       "      <td>SkySports</td>\n",
       "      <td>5.249833e+06</td>\n",
       "    </tr>\n",
       "    <tr>\n",
       "      <td>ZeeNews</td>\n",
       "      <td>4.817073e+06</td>\n",
       "    </tr>\n",
       "    <tr>\n",
       "      <td>TUDNMEX</td>\n",
       "      <td>4.170189e+06</td>\n",
       "    </tr>\n",
       "    <tr>\n",
       "      <td>rapplerdotcom</td>\n",
       "      <td>3.201741e+06</td>\n",
       "    </tr>\n",
       "    <tr>\n",
       "      <td>RT_com</td>\n",
       "      <td>3.068508e+06</td>\n",
       "    </tr>\n",
       "  </tbody>\n",
       "</table>\n",
       "</div>"
      ],
      "text/plain": [
       "               followers_count\n",
       "handle                        \n",
       "timesofindia      1.238144e+07\n",
       "ndtv              1.220791e+07\n",
       "enews             1.177293e+07\n",
       "the_hindu         5.798407e+06\n",
       "IndiaToday        5.278351e+06\n",
       "SkySports         5.249833e+06\n",
       "ZeeNews           4.817073e+06\n",
       "TUDNMEX           4.170189e+06\n",
       "rapplerdotcom     3.201741e+06\n",
       "RT_com            3.068508e+06"
      ]
     },
     "execution_count": 18,
     "metadata": {},
     "output_type": "execute_result"
    }
   ],
   "source": [
    "# accounts with the most average number of followers\n",
    "avg_followers_count = df[['handle','followers_count']].groupby('handle').mean()\n",
    "\n",
    "# top 10\n",
    "avg_followers_count.sort_values('followers_count', ascending=False).head(10)"
   ]
  },
  {
   "cell_type": "markdown",
   "metadata": {},
   "source": [
    "Looking through some of these accounts, the top 3 most followed accounts are news outlets from India.\n",
    "\n",
    "Let's also check the accounts that don't have too many followers, but through a histogram, since I would expect there to be many."
   ]
  },
  {
   "cell_type": "code",
   "execution_count": 19,
   "metadata": {},
   "outputs": [
    {
     "data": {
      "image/png": "[encoded data removed]",
      "text/plain": [
       "<Figure size 432x288 with 1 Axes>"
      ]
     },
     "metadata": {
      "needs_background": "light"
     },
     "output_type": "display_data"
    }
   ],
   "source": [
    "# follower count distribution\n",
    "plt.figure()\n",
    "plt.hist(avg_followers_count[avg_followers_count['followers_count'] < 1000]['followers_count'], bins=50)\n",
    "plt.title('Distribution of follower counts')\n",
    "plt.xlabel('Follower count')\n",
    "plt.ylabel('Frequency')\n",
    "plt.show()"
   ]
  },
  {
   "cell_type": "markdown",
   "metadata": {},
   "source": [
    "I would like to make note that, in scraping the tweets, the `result_type` parameter in the `.GetSearch()` method on the `twitter.api.Api` object was set to `'recent'`, which means that the requests look for more recent tweets as opposed to more popular ones.  This could be thought of as being reflected in the data through this `followers_count` column - a large number of accounts how very little followers.  In a dataset of `'popular'` tweets, it's possible that the follower counts are much higher."
   ]
  },
  {
   "cell_type": "markdown",
   "metadata": {},
   "source": [
    "### friends_count\n",
    "\n",
    "convert to `int`"
   ]
  },
  {
   "cell_type": "code",
   "execution_count": 20,
   "metadata": {},
   "outputs": [],
   "source": [
    "# conversion to integer\n",
    "df['friends_count'] = df['friends_count'].astype(int)"
   ]
  },
  {
   "cell_type": "markdown",
   "metadata": {},
   "source": [
    "### retweet"
   ]
  },
  {
   "cell_type": "markdown",
   "metadata": {},
   "source": [
    "We saw from `df.info()` that this column is of type float, but we just need it to be a purely binary column which indicates whether or not the tweet was a retweet (1) or not (0).  Let's convert it to the integer type."
   ]
  },
  {
   "cell_type": "code",
   "execution_count": 21,
   "metadata": {},
   "outputs": [
    {
     "data": {
      "text/plain": [
       "dtype('int32')"
      ]
     },
     "execution_count": 21,
     "metadata": {},
     "output_type": "execute_result"
    }
   ],
   "source": [
    "df['retweet'] = df['retweet'].astype(int) # convert\n",
    "df['retweet'].dtype # verify"
   ]
  },
  {
   "cell_type": "markdown",
   "metadata": {},
   "source": [
    "Let's now check how much of our dataset is comprised of retweets.  I would expect to see a lot."
   ]
  },
  {
   "cell_type": "code",
   "execution_count": 22,
   "metadata": {},
   "outputs": [
    {
     "data": {
      "text/plain": [
       "1    16675\n",
       "0    14312\n",
       "Name: retweet, dtype: int64"
      ]
     },
     "execution_count": 22,
     "metadata": {},
     "output_type": "execute_result"
    }
   ],
   "source": [
    "df['retweet'].value_counts()"
   ]
  },
  {
   "cell_type": "markdown",
   "metadata": {},
   "source": [
    "More than half of our dataset is comprised of retweets.  The issue with a tweet appearing multiple times in our dataset (i.e. via retweets) is that, because I insist on using a count vectorizer, _any machine learning model will pick up strongly on the words in the frequently retweeted tweets_.  I will look to remove the rows, but I first want to see which tweets appear most frequently in our dataset.  Instead of using the `retweet` column to get these tweets, I will actually perform `.value_counts()` on the `tweet` column.  If one of the rows is a retweet, there is no guarantee that the original tweet is also present in the dataset!"
   ]
  },
  {
   "cell_type": "code",
   "execution_count": 23,
   "metadata": {},
   "outputs": [
    {
     "data": {
      "text/plain": [
       "I asked Monty Williams about coronavirus Sunday before #Suns faced Bucks.\\n\\n\"I heard the test costs like $1,400. Who can pay for that other than folks who have excess money? People are dying. That test should be free.\" \\n\\n#NBA now suspending play after Rudy Gobert tested positive. https://t.co/H6spIChHng    657\n",
       "Stream “Reveal “ now @LaMemeGang \\n@darkovibes #LamemeTotheWorld 🌍🔋 #Mavericks #Nba 🇬🇭 ❤️ https://t.co/7bdYVHKwya                                                                                                                                                                                                      293\n",
       "🤣 I think Lebron is over this rain 🌧\\n\\n🎥: @KingJames (IG)\\n\\n#lakeshow #Lakers #nba https://t.co/6R2AeU6K6T                                                                                                                                                                                                           287\n",
       "#NBATwitter FOLLOW TRAIN TIME!\\n\\nIf you’re a fan of the #NBA and you follow back:\\n\\n• FOLLOW EVERYONE WHO        LIKES THIS TWEET\\n• LIKE THIS TWEET\\n• RT FOR MORE AUDIENCES\\n• FOLLOW ME 😄\\n• REPLY WITH “IFB” \\n• FOLLOW EVERYBODY WHO DOES \\n\\n#NBAFollowTrains #NBATwitter                                      206\n",
       "Thanks for the encouraging words, Steph Curry 🙌\\n\\n#Warriors #NBA #NBATwitter https://t.co/gdYWsvUi8O                                                                                                                                                                                                                  206\n",
       "💪🏾 Lebron and the fam getting that work in!\\n\\n🎥: @KingJames (IG)\\n\\n#lakeshow #nba #jamesgang👑 https://t.co/AR1u2k3Xpo                                                                                                                                                                                                164\n",
       "#NBATwitter FOLLOW TRAIN TIME!\\n\\nIf you’re a fan of the #NBA and you follow back:\\n\\n• FOLLOW EVERYONE WHO  LIKES THIS TWEET\\n• LIKE THIS TWEET\\n• RT FOR MORE AUDIENCES\\n• FOLLOW ME 😄\\n• REPLY WITH “IFB” \\n• FOLLOW EVERYBODY WHO DOES \\n\\n#NBAFollowTrains #NBATwitter                                            141\n",
       "@black_mixed Look, when billionaires are willing to stop their checks.. something is worse then we know.\\n\\nThat #NBA suspension got me.                                                                                                                                                                               128\n",
       "@SportsCenter @espn #RudyGobert childishly touched all of the microphones and recorders to mock everyone concerned about the #coronavirus.\\n\\nTonight, @RudyGobert27 has tested positive for the coronavirus.\\n\\nDumbest player in #NBA history.\\n\\n#CoronavirusOutbreak #COVID19 https://t.co/UTHGKonxSl              112\n",
       "My people inside the #NBA\\nSent me this \\n\\nTHE SCHEDULE FOR WHEN THE NBA PLANS TO RETURN TO ACTION \\n\\nU ARE SEEING IT HERE 1ST \\nBEFORE @ESPN HAS IT https://t.co/tfL9DSkCPt                                                                                                                                         111\n",
       "Name: tweet, dtype: int64"
      ]
     },
     "execution_count": 23,
     "metadata": {},
     "output_type": "execute_result"
    }
   ],
   "source": [
    "df['tweet'].value_counts().head(10)"
   ]
  },
  {
   "cell_type": "markdown",
   "metadata": {},
   "source": [
    "Let's now remove some of these tweets.  Instead of using the `retweet` column to find out which rows to drop, I will use `.duplicated()` on the `tweet` column."
   ]
  },
  {
   "cell_type": "code",
   "execution_count": 24,
   "metadata": {},
   "outputs": [
    {
     "data": {
      "text/plain": [
       "0.5026946784135282"
      ]
     },
     "execution_count": 24,
     "metadata": {},
     "output_type": "execute_result"
    }
   ],
   "source": [
    "# proportion of rows that will be dropped\n",
    "len(df[df['tweet'].duplicated() == True]) / len(df)"
   ]
  },
  {
   "cell_type": "markdown",
   "metadata": {},
   "source": [
    "Note that we are dropping nearly half of the rows in our dataset!"
   ]
  },
  {
   "cell_type": "code",
   "execution_count": 25,
   "metadata": {},
   "outputs": [],
   "source": [
    "# removing duplicate tweet text rows and re-assigning the \"df\" variable\n",
    "df = df[df['tweet'].duplicated() == False]\n",
    "\n",
    "# reset index\n",
    "df.reset_index(drop=True, inplace=True)"
   ]
  },
  {
   "cell_type": "code",
   "execution_count": 26,
   "metadata": {},
   "outputs": [
    {
     "data": {
      "text/plain": [
       "(15410, 14)"
      ]
     },
     "execution_count": 26,
     "metadata": {},
     "output_type": "execute_result"
    }
   ],
   "source": [
    "df.shape"
   ]
  },
  {
   "cell_type": "markdown",
   "metadata": {},
   "source": [
    "### symbols"
   ]
  },
  {
   "cell_type": "markdown",
   "metadata": {},
   "source": [
    "What exactly is in this column?"
   ]
  },
  {
   "cell_type": "code",
   "execution_count": 27,
   "metadata": {},
   "outputs": [
    {
     "data": {
      "text/plain": [
       "array(['[]', \"[{'text': 'TRX', 'indices': [31, 35]}]\",\n",
       "       \"[{'text': 'PHCG', 'indices': [0, 5]}]\",\n",
       "       \"[{'text': 'NGTF', 'indices': [0, 5]}]\",\n",
       "       \"[{'text': 'aytu', 'indices': [94, 99]}, {'text': 'codx', 'indices': [105, 110]}]\",\n",
       "       \"[{'text': 'hocked', 'indices': [0, 7]}, {'text': 'eason', 'indices': [41, 47]}, {'text': 'taff', 'indices': [60, 65]}, {'text': 'ix', 'indices': [119, 122]}, {'text': 'elf', 'indices': [186, 190]}, {'text': 'pread', 'indices': [207, 213]}]\",\n",
       "       \"[{'text': 'afe', 'indices': [7, 11]}, {'text': 'orry', 'indices': [17, 22]}, {'text': 'elfie', 'indices': [196, 202]}, {'text': 'top', 'indices': [266, 270]}, {'text': 'pread', 'indices': [271, 277]}]\",\n",
       "       \"[{'text': 'SPY', 'indices': [9, 13]}, {'text': 'SPY', 'indices': [55, 59]}, {'text': 'TVIX', 'indices': [60, 65]}]\",\n",
       "       \"[{'text': 'UBT', 'indices': [262, 266]}]\",\n",
       "       \"[{'text': 'SPY', 'indices': [98, 102]}, {'text': 'DJI', 'indices': [103, 107]}, {'text': 'DIA', 'indices': [108, 112]}, {'text': 'QQQ', 'indices': [113, 117]}, {'text': 'SPX', 'indices': [118, 122]}]\",\n",
       "       \"[{'text': 'SPX', 'indices': [32, 36]}]\",\n",
       "       \"[{'text': 'goog', 'indices': [257, 262]}, {'text': 'amzn', 'indices': [263, 268]}, {'text': 'cvs', 'indices': [269, 273]}, {'text': 'wmt', 'indices': [274, 278]}]\",\n",
       "       \"[{'text': 'ZM', 'indices': [271, 274]}]\",\n",
       "       \"[{'text': 'UA', 'indices': [68, 71]}, {'text': 'LULU', 'indices': [72, 77]}, {'text': 'NKE', 'indices': [78, 82]}]\"],\n",
       "      dtype=object)"
      ]
     },
     "execution_count": 27,
     "metadata": {},
     "output_type": "execute_result"
    }
   ],
   "source": [
    "# unique values of symbols\n",
    "df['symbols'].unique()"
   ]
  },
  {
   "cell_type": "code",
   "execution_count": 28,
   "metadata": {},
   "outputs": [
    {
     "data": {
      "text/plain": [
       "'$PHCG Set to Expand Operations as Colorado Cannabis Market Sets New Record\\nhttps://t.co/sZGGHSaFis  \\n#wsj #nytimes #reuters #forbes  #business #cnn #bet #foxnews #cannabis #marijuana #CBD #latimes #usatoday #realdonaldtrump #ESPN #NBA #WGN #JimmyFallon #valuation #investingcom https://t.co/X5WKx9aYp3'"
      ]
     },
     "execution_count": 28,
     "metadata": {},
     "output_type": "execute_result"
    }
   ],
   "source": [
    "# random sample of a tweet that uses a Twitter symbol(s)\n",
    "df.iloc[pd.Series(df['tweet'][df['symbols'] != '[]'].index).sample().values[0]]['tweet']"
   ]
  },
  {
   "cell_type": "markdown",
   "metadata": {},
   "source": [
    "\"symbols\" column seems to list all of the [Twitter symbols features](https://blog.twitter.com/developer/en_us/a/2013/symbols-entities-tweets.html) included in a tweet, which are denoted by a dollar sign and followed by some text.  Based on our sampling in the above cell, these symbols look like kinds of letter codes, but some accounts also replace the letter \"S\" with the dollar sign.  Poor aesthetic choice."
   ]
  },
  {
   "cell_type": "code",
   "execution_count": 29,
   "metadata": {},
   "outputs": [
    {
     "name": "stdout",
     "output_type": "stream",
     "text": [
      "Percentage of tweets that have symbols in them:  0.136%\n"
     ]
    }
   ],
   "source": [
    "# number of tweets that have symbols in them\n",
    "print(f'Percentage of tweets that have symbols in them: {len(df[df[\"symbols\"] != \"[]\"]) / len(df) * 100 : 0.3f}%')"
   ]
  },
  {
   "cell_type": "markdown",
   "metadata": {},
   "source": [
    "Because only a very small portion of tweets from our dataset includes symbols, this column is likely irrelevant for our purposes."
   ]
  },
  {
   "cell_type": "markdown",
   "metadata": {},
   "source": [
    "### tweet_id\n",
    "\n",
    "convert to `int64`"
   ]
  },
  {
   "cell_type": "code",
   "execution_count": 30,
   "metadata": {},
   "outputs": [
    {
     "data": {
      "text/plain": [
       "4195    1.237818e+18\n",
       "Name: tweet_id, dtype: float64"
      ]
     },
     "execution_count": 30,
     "metadata": {},
     "output_type": "execute_result"
    }
   ],
   "source": [
    "# random sample of a tweet ID\n",
    "df['tweet_id'].sample()"
   ]
  },
  {
   "cell_type": "markdown",
   "metadata": {},
   "source": [
    "We see here that, because the tweet ID is a long number, it gets truncated into scientific notation.  Conversion into a larger bit integer should help us view the whole tweet ID."
   ]
  },
  {
   "cell_type": "code",
   "execution_count": 31,
   "metadata": {},
   "outputs": [],
   "source": [
    "# conversion to int64\n",
    "df['tweet_id'] = np.int64(df['tweet_id'])"
   ]
  },
  {
   "cell_type": "code",
   "execution_count": 32,
   "metadata": {},
   "outputs": [
    {
     "data": {
      "text/plain": [
       "0    1237377674298814464\n",
       "1    1237377717756211200\n",
       "2    1237377788535083008\n",
       "3    1237377792867815424\n",
       "4    1237377801944260608\n",
       "Name: tweet_id, dtype: int64"
      ]
     },
     "execution_count": 32,
     "metadata": {},
     "output_type": "execute_result"
    }
   ],
   "source": [
    "# verify\n",
    "df['tweet_id'].head()"
   ]
  },
  {
   "cell_type": "markdown",
   "metadata": {},
   "source": [
    "### Unique users and tweet frequency"
   ]
  },
  {
   "cell_type": "code",
   "execution_count": 33,
   "metadata": {},
   "outputs": [
    {
     "data": {
      "text/plain": [
       "10022"
      ]
     },
     "execution_count": 33,
     "metadata": {},
     "output_type": "execute_result"
    }
   ],
   "source": [
    "# number of unique Twitter users that appear in our dataset\n",
    "len(df['handle'].unique())"
   ]
  },
  {
   "cell_type": "markdown",
   "metadata": {},
   "source": [
    "It's also worthwhile to see which accounts appear most frequently in our dataset.  Note that for scraping retweets, we have retained the handle (username) of the user that has retweeted something, but not the handle of the account that made the original tweet."
   ]
  },
  {
   "cell_type": "code",
   "execution_count": 34,
   "metadata": {},
   "outputs": [
    {
     "data": {
      "text/plain": [
       "SportsCardKing_    142\n",
       "SportsWatch1       100\n",
       "JeffGSpursZone      98\n",
       "LineStarNBA         96\n",
       "BasketballRoto      68\n",
       "Homerunbot1         64\n",
       "SimWorld4K          52\n",
       "dfshero             48\n",
       "WhoSunad7           45\n",
       "WinWithMalliard     44\n",
       "NBATheJump          40\n",
       "Printspixnremix     38\n",
       "winnertipster1      37\n",
       "LionelPeyronnet     36\n",
       "TheBasketballF1     36\n",
       "BlowoutBuzz         35\n",
       "AllBasketballs      35\n",
       "QueensIceZ          34\n",
       "ATSstats            32\n",
       "ACBJV               32\n",
       "AwesemoNBA          29\n",
       "RonBohning          28\n",
       "gntlmnking          28\n",
       "Awesemo_Com         27\n",
       "republic            27\n",
       "Name: handle, dtype: int64"
      ]
     },
     "execution_count": 34,
     "metadata": {},
     "output_type": "execute_result"
    }
   ],
   "source": [
    "df['handle'].value_counts().head(25)"
   ]
  },
  {
   "cell_type": "markdown",
   "metadata": {},
   "source": [
    "Let's go through some of these profiles (in no order):\n",
    "\n",
    "- [@SportsCardKing_](https://twitter.com/sportscardking_): An account that tweets photos of and links to various sports trading cards, with the hashtag of the sports league that the specific player is from included at the end of each tweet\n",
    "- [@SportsWatch1](https://twitter.com/sportswatch1): Bot-like, Twitter account for sportswatchmonitor.com, a sports betting website\n",
    "- [@JeffGSpursZone](https://twitter.com/jeffgspurszone): Digital journalist for the San Antonio Spurs.  Most NBA-related tweets here get hashtagged with #NBA\n",
    "- [@LineStarNBA](https://twitter.com/linestarnba): Bot-like, fantasy sports strategies, news/updates/headlines from NBA\n",
    "- [@BasketballRoto](https://twitter.com/basketballroto): Bot-like, fantasy sports strategies, news/updates/headlines from NBA\n",
    "- [@Homerunbot1](https://twitter.com/homerunbot1): Bot-like, shares sports and general news headlines.  Every tweet contains a plethora of hashtags\n",
    "- [@SimWorld4K](https://twitter.com/simworld4k): Bot-like, promotes their own sports simulator.  Every tweet has many NBA-related hashtags\n",
    "- [@WhoSunad7](https://twitter.com/whosunad7): Reposts NBA articles seemingly exclusively from Sports Illustrated\n",
    "- [@WinWithMalliard](https://twitter.com/winwithmalliard): Bot-like, retweets content from major sports leagues\n",
    "- [@NBATheJump](https://twitter.com/nbathejump): A fan account of the NBA show \"The Jump\", seems bot-like in that it tweets about segments of the show, as well as quotes from its hosts\n",
    "- [@LionelPeyronnet](https://twitter.com/lionelpeyronnet): \n",
    "- [@AwesemoNBA](https://twitter.com/awesemonba) / [@Awesemo_Com](https://twitter.com/awesemo_com): Daily fantasy sports (DFS) podcast\n",
    "- [@gntlmnking](https://twitter.com/gntlmnking): A bizarre account that doesn't look like a bot but tweets at a high frequency about the New York Knicks (especially during their games)\n",
    "\n",
    "Without doing any data modelling, we have already uncovered some interesting information about potential topic clusters in our data - accounts that tweet with \"#NBA\" generally tweet about fantasy sports, sports gambling and betting, and sports news!  We also note that there are a lot of bots, as well as accounts who tack on numerous hashtags at the end of their tweets (likely for trying to reach out to different kinds of audiences)."
   ]
  },
  {
   "cell_type": "markdown",
   "metadata": {},
   "source": [
    "To conclude our data cleaning/EDA, we will save the cleaned master data as a .csv file."
   ]
  },
  {
   "cell_type": "code",
   "execution_count": 35,
   "metadata": {},
   "outputs": [],
   "source": [
    "df.to_csv('data/master_clean.csv', index=False)"
   ]
  }
 ],
 "metadata": {
  "kernelspec": {
   "display_name": "Python 3",
   "language": "python",
   "name": "python3"
  },
  "language_info": {
   "codemirror_mode": {
    "name": "ipython",
    "version": 3
   },
   "file_extension": ".py",
   "mimetype": "text/x-python",
   "name": "python",
   "nbconvert_exporter": "python",
   "pygments_lexer": "ipython3",
   "version": "3.7.4"
  }
 },
 "nbformat": 4,
 "nbformat_minor": 4
}
